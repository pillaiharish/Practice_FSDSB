{
 "cells": [
  {
   "cell_type": "code",
   "execution_count": 7,
   "id": "60e790e5",
   "metadata": {},
   "outputs": [
    {
     "name": "stdout",
     "output_type": "stream",
     "text": [
      "\u001b[33mWARNING: The directory '/Users/hpillai/Library/Caches/pip' or its parent directory is not owned or is not writable by the current user. The cache has been disabled. Check the permissions and owner of that directory. If executing pip with sudo, you should use sudo's -H flag.\u001b[0m\n",
      "Requirement already satisfied: pymongo[srv] in /Users/hpillai/.pyenv/versions/3.7.7/lib/python3.7/site-packages (4.3.3)\n",
      "Requirement already satisfied: dnspython<3.0.0,>=1.16.0 in /Users/hpillai/.pyenv/versions/3.7.7/lib/python3.7/site-packages (from pymongo[srv]) (1.16.0)\n",
      "\u001b[33mWARNING: You are using pip version 21.2.4; however, version 23.0.1 is available.\n",
      "You should consider upgrading via the '/Users/hpillai/.pyenv/versions/3.7.7/bin/python -m pip install --upgrade pip' command.\u001b[0m\n"
     ]
    }
   ],
   "source": [
    "!pip install pymongo[srv]"
   ]
  },
  {
   "cell_type": "code",
   "execution_count": null,
   "id": "f7485f5d",
   "metadata": {},
   "outputs": [],
   "source": []
  },
  {
   "cell_type": "code",
   "execution_count": null,
   "id": "f872b6f7",
   "metadata": {},
   "outputs": [],
   "source": []
  },
  {
   "cell_type": "code",
   "execution_count": 63,
   "id": "3d289142",
   "metadata": {},
   "outputs": [
    {
     "name": "stdout",
     "output_type": "stream",
     "text": [
      "Database(MongoClient(host=['cluster0-shard-00-02.swnzv.mongodb.net:27017', 'cluster0-shard-00-01.swnzv.mongodb.net:27017', 'cluster0-shard-00-00.swnzv.mongodb.net:27017'], document_class=dict, tz_aware=False, connect=True, retrywrites=True, w='majority', authsource='admin', replicaset='atlas-b0mosk-shard-0', tls=True), 'search_product')\n"
     ]
    },
    {
     "data": {
      "text/plain": [
       "['customer_review']"
      ]
     },
     "execution_count": 63,
     "metadata": {},
     "output_type": "execute_result"
    }
   ],
   "source": [
    "# pip install pymongo\n",
    "from pymongo import MongoClient\n",
    "\n",
    "\n",
    "client = MongoClient(\"mongodb+srv://<user_name>:<password_here>@<custer_name>.swnzv.mongodb.net/?retryWrites=true&w=majority\")\n",
    "test_db = client.search_product\n",
    "print(test_db)\n",
    "\n",
    "test_db.list_collection_names()"
   ]
  },
  {
   "cell_type": "code",
   "execution_count": 43,
   "id": "18d342c9",
   "metadata": {},
   "outputs": [
    {
     "name": "stdout",
     "output_type": "stream",
     "text": [
      "[]\n"
     ]
    }
   ],
   "source": [
    "print(db.list_collection_names())"
   ]
  },
  {
   "cell_type": "code",
   "execution_count": 85,
   "id": "a8e6e45f",
   "metadata": {},
   "outputs": [
    {
     "data": {
      "text/plain": [
       "150"
      ]
     },
     "execution_count": 85,
     "metadata": {},
     "output_type": "execute_result"
    }
   ],
   "source": [
    "len(json_dict)\n",
    "\n"
   ]
  },
  {
   "cell_type": "code",
   "execution_count": 87,
   "id": "5f572258",
   "metadata": {},
   "outputs": [],
   "source": [
    "search_key = \"iphone%2011\"\n",
    "path2 = open(\"/Users/hpillai/work/untitled folder/scraper-app/scraper-app/output_json.json\")\n",
    "search_key = search_key.replace(\"%20\",\"-\")\n",
    "import json\n",
    "json_dict = json.loads(path2.read())\n",
    "\n",
    "for i in range(len(json_dict)):\n",
    "    test_db[\"customer_review\"].insert_one(json_dict[str(i)])\n"
   ]
  },
  {
   "cell_type": "code",
   "execution_count": 128,
   "id": "2abd9e87",
   "metadata": {},
   "outputs": [
    {
     "ename": "TypeError",
     "evalue": "documents must be a non-empty list",
     "output_type": "error",
     "traceback": [
      "\u001b[0;31m---------------------------------------------------------------------------\u001b[0m",
      "\u001b[0;31mTypeError\u001b[0m                                 Traceback (most recent call last)",
      "\u001b[0;32m/var/folders/yb/qknsk9l12476tshk2ylm1tyw0000gq/T/ipykernel_6548/2405756196.py\u001b[0m in \u001b[0;36m<module>\u001b[0;34m\u001b[0m\n\u001b[1;32m     21\u001b[0m    }\n\u001b[1;32m     22\u001b[0m \u001b[0;34m\u001b[0m\u001b[0m\n\u001b[0;32m---> 23\u001b[0;31m \u001b[0mtest_db\u001b[0m\u001b[0;34m.\u001b[0m\u001b[0mcustomer_review\u001b[0m\u001b[0;34m.\u001b[0m\u001b[0minsert_many\u001b[0m\u001b[0;34m(\u001b[0m\u001b[0md\u001b[0m\u001b[0;34m)\u001b[0m\u001b[0;34m\u001b[0m\u001b[0;34m\u001b[0m\u001b[0m\n\u001b[0m",
      "\u001b[0;32m~/.pyenv/versions/3.7.7/lib/python3.7/site-packages/pymongo/_csot.py\u001b[0m in \u001b[0;36mcsot_wrapper\u001b[0;34m(self, *args, **kwargs)\u001b[0m\n\u001b[1;32m    103\u001b[0m                 \u001b[0;32mwith\u001b[0m \u001b[0m_TimeoutContext\u001b[0m\u001b[0;34m(\u001b[0m\u001b[0mtimeout\u001b[0m\u001b[0;34m)\u001b[0m\u001b[0;34m:\u001b[0m\u001b[0;34m\u001b[0m\u001b[0;34m\u001b[0m\u001b[0m\n\u001b[1;32m    104\u001b[0m                     \u001b[0;32mreturn\u001b[0m \u001b[0mfunc\u001b[0m\u001b[0;34m(\u001b[0m\u001b[0mself\u001b[0m\u001b[0;34m,\u001b[0m \u001b[0;34m*\u001b[0m\u001b[0margs\u001b[0m\u001b[0;34m,\u001b[0m \u001b[0;34m**\u001b[0m\u001b[0mkwargs\u001b[0m\u001b[0;34m)\u001b[0m\u001b[0;34m\u001b[0m\u001b[0;34m\u001b[0m\u001b[0m\n\u001b[0;32m--> 105\u001b[0;31m         \u001b[0;32mreturn\u001b[0m \u001b[0mfunc\u001b[0m\u001b[0;34m(\u001b[0m\u001b[0mself\u001b[0m\u001b[0;34m,\u001b[0m \u001b[0;34m*\u001b[0m\u001b[0margs\u001b[0m\u001b[0;34m,\u001b[0m \u001b[0;34m**\u001b[0m\u001b[0mkwargs\u001b[0m\u001b[0;34m)\u001b[0m\u001b[0;34m\u001b[0m\u001b[0;34m\u001b[0m\u001b[0m\n\u001b[0m\u001b[1;32m    106\u001b[0m \u001b[0;34m\u001b[0m\u001b[0m\n\u001b[1;32m    107\u001b[0m     \u001b[0;32mreturn\u001b[0m \u001b[0mcast\u001b[0m\u001b[0;34m(\u001b[0m\u001b[0mF\u001b[0m\u001b[0;34m,\u001b[0m \u001b[0mcsot_wrapper\u001b[0m\u001b[0;34m)\u001b[0m\u001b[0;34m\u001b[0m\u001b[0;34m\u001b[0m\u001b[0m\n",
      "\u001b[0;32m~/.pyenv/versions/3.7.7/lib/python3.7/site-packages/pymongo/collection.py\u001b[0m in \u001b[0;36minsert_many\u001b[0;34m(self, documents, ordered, bypass_document_validation, session, comment)\u001b[0m\n\u001b[1;32m    696\u001b[0m             \u001b[0;32mor\u001b[0m \u001b[0;32mnot\u001b[0m \u001b[0mdocuments\u001b[0m\u001b[0;34m\u001b[0m\u001b[0;34m\u001b[0m\u001b[0m\n\u001b[1;32m    697\u001b[0m         ):\n\u001b[0;32m--> 698\u001b[0;31m             \u001b[0;32mraise\u001b[0m \u001b[0mTypeError\u001b[0m\u001b[0;34m(\u001b[0m\u001b[0;34m\"documents must be a non-empty list\"\u001b[0m\u001b[0;34m)\u001b[0m\u001b[0;34m\u001b[0m\u001b[0;34m\u001b[0m\u001b[0m\n\u001b[0m\u001b[1;32m    699\u001b[0m         \u001b[0minserted_ids\u001b[0m\u001b[0;34m:\u001b[0m \u001b[0mList\u001b[0m\u001b[0;34m[\u001b[0m\u001b[0mObjectId\u001b[0m\u001b[0;34m]\u001b[0m \u001b[0;34m=\u001b[0m \u001b[0;34m[\u001b[0m\u001b[0;34m]\u001b[0m\u001b[0;34m\u001b[0m\u001b[0;34m\u001b[0m\u001b[0m\n\u001b[1;32m    700\u001b[0m \u001b[0;34m\u001b[0m\u001b[0m\n",
      "\u001b[0;31mTypeError\u001b[0m: documents must be a non-empty list"
     ]
    }
   ],
   "source": [
    "# column = test_db.customer_review\n",
    "# a = column.find({\"prod_name\": \"iphone-11\"})[0][\"prod_name\"]\n",
    "# # b = \n",
    "# column.aggregate()\n",
    "d ={\"0\":{\n",
    "    'prod_name': 'iphone-11', \n",
    "    'name': 'No name', \n",
    "    'customer_rating': '4.6', \n",
    "    'comment_header': 'No header', \n",
    "    'customer_comment': '', \n",
    "    'likes': 'No likes', \n",
    "    'dislikes': 'No dislikes'},\n",
    "    \"1\":{\n",
    "    'prod_name': 'iphone-11', \n",
    "    'name': 'No name', \n",
    "    'customer_rating': '4.6', \n",
    "    'comment_header': 'No header', \n",
    "    'customer_comment': '', \n",
    "    'likes': 'No likes', \n",
    "    'dislikes': 'No dislikes'}\n",
    "   }\n",
    "\n",
    "test_db.customer_review.insert_many(d)"
   ]
  },
  {
   "cell_type": "code",
   "execution_count": null,
   "id": "36a37aee",
   "metadata": {},
   "outputs": [],
   "source": [
    " option_settings:\n",
    "   aws:elasticbeanstalk:application:environment:\n",
    "    PORT:8081\n",
    "     NODE_ENV:development\n",
    "   aws:autoscaling:launchconfiguration:\n",
    "     SecurityGroups:launch-123"
   ]
  },
  {
   "cell_type": "code",
   "execution_count": null,
   "id": "2e1949a5",
   "metadata": {},
   "outputs": [],
   "source": [
    "# sql = mongo\n",
    "# table = collection\n",
    "# row = document (value)\n",
    "# column = property (key)"
   ]
  },
  {
   "cell_type": "code",
   "execution_count": 133,
   "id": "fa043c96",
   "metadata": {},
   "outputs": [
    {
     "name": "stdout",
     "output_type": "stream",
     "text": [
      "+--------+--------+--------+--------+\n"
     ]
    }
   ],
   "source": [
    "print(\"+--------\"*4+\"+\")"
   ]
  },
  {
   "cell_type": "code",
   "execution_count": null,
   "id": "aab3db26",
   "metadata": {},
   "outputs": [],
   "source": []
  }
 ],
 "metadata": {
  "kernelspec": {
   "display_name": "Python 3 (ipykernel)",
   "language": "python",
   "name": "python3"
  },
  "language_info": {
   "codemirror_mode": {
    "name": "ipython",
    "version": 3
   },
   "file_extension": ".py",
   "mimetype": "text/x-python",
   "name": "python",
   "nbconvert_exporter": "python",
   "pygments_lexer": "ipython3",
   "version": "3.7.7"
  }
 },
 "nbformat": 4,
 "nbformat_minor": 5
}
