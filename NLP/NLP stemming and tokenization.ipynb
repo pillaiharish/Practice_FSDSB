{
 "cells": [
  {
   "cell_type": "markdown",
   "id": "e06835e9",
   "metadata": {},
   "source": [
    "## Stemming \n",
    "Takes any word as input and gives root word as output. The real meaning might be lost."
   ]
  },
  {
   "cell_type": "code",
   "execution_count": 88,
   "id": "8d9760e9",
   "metadata": {},
   "outputs": [],
   "source": [
    "paragraph = \"This is first line number. This is second line number. I am very happy to be here finally.\""
   ]
  },
  {
   "cell_type": "code",
   "execution_count": 2,
   "id": "142db162",
   "metadata": {},
   "outputs": [
    {
     "name": "stdout",
     "output_type": "stream",
     "text": [
      "\u001b[33mWARNING: The directory '/Users/hpillai/Library/Caches/pip' or its parent directory is not owned or is not writable by the current user. The cache has been disabled. Check the permissions and owner of that directory. If executing pip with sudo, you should use sudo's -H flag.\u001b[0m\n",
      "Collecting nltk\n",
      "  Downloading nltk-3.8.1-py3-none-any.whl (1.5 MB)\n",
      "\u001b[K     |████████████████████████████████| 1.5 MB 900 kB/s eta 0:00:01\n",
      "\u001b[?25hCollecting joblib\n",
      "  Downloading joblib-1.2.0-py3-none-any.whl (297 kB)\n",
      "\u001b[K     |████████████████████████████████| 297 kB 1.1 MB/s eta 0:00:01\n",
      "\u001b[?25hRequirement already satisfied: click in /Users/hpillai/.pyenv/versions/3.7.7/lib/python3.7/site-packages (from nltk) (8.1.3)\n",
      "Collecting regex>=2021.8.3\n",
      "  Downloading regex-2022.10.31-cp37-cp37m-macosx_10_9_x86_64.whl (294 kB)\n",
      "\u001b[K     |████████████████████████████████| 294 kB 793 kB/s eta 0:00:01\n",
      "\u001b[?25hRequirement already satisfied: tqdm in /Users/hpillai/.pyenv/versions/3.7.7/lib/python3.7/site-packages (from nltk) (4.62.2)\n",
      "Requirement already satisfied: importlib-metadata in /Users/hpillai/.pyenv/versions/3.7.7/lib/python3.7/site-packages (from click->nltk) (4.10.0)\n",
      "Requirement already satisfied: typing-extensions>=3.6.4 in /Users/hpillai/.pyenv/versions/3.7.7/lib/python3.7/site-packages (from importlib-metadata->click->nltk) (3.10.0.2)\n",
      "Requirement already satisfied: zipp>=0.5 in /Users/hpillai/.pyenv/versions/3.7.7/lib/python3.7/site-packages (from importlib-metadata->click->nltk) (3.4.0)\n",
      "Installing collected packages: regex, joblib, nltk\n",
      "Successfully installed joblib-1.2.0 nltk-3.8.1 regex-2022.10.31\n",
      "\u001b[33mWARNING: You are using pip version 21.2.4; however, version 23.0.1 is available.\n",
      "You should consider upgrading via the '/Users/hpillai/.pyenv/versions/3.7.7/bin/python -m pip install --upgrade pip' command.\u001b[0m\n"
     ]
    }
   ],
   "source": [
    "!pip install nltk"
   ]
  },
  {
   "cell_type": "code",
   "execution_count": 16,
   "id": "86a50e16",
   "metadata": {},
   "outputs": [],
   "source": [
    "import nltk"
   ]
  },
  {
   "cell_type": "code",
   "execution_count": 47,
   "id": "169490b4",
   "metadata": {},
   "outputs": [
    {
     "name": "stderr",
     "output_type": "stream",
     "text": [
      "[nltk_data] Downloading package punkt to /Users/hpillai/nltk_data...\n",
      "[nltk_data]   Package punkt is already up-to-date!\n",
      "[nltk_data] Downloading package wordnet to /Users/hpillai/nltk_data...\n",
      "[nltk_data]   Package wordnet is already up-to-date!\n",
      "[nltk_data] Downloading package stopwords to\n",
      "[nltk_data]     /Users/hpillai/nltk_data...\n",
      "[nltk_data]   Unzipping corpora/stopwords.zip.\n"
     ]
    },
    {
     "data": {
      "text/plain": [
       "True"
      ]
     },
     "execution_count": 47,
     "metadata": {},
     "output_type": "execute_result"
    }
   ],
   "source": [
    "nltk.download('punkt')\n",
    "nltk.download('wordnet')\n",
    "nltk.download('stopwords')"
   ]
  },
  {
   "cell_type": "code",
   "execution_count": 90,
   "id": "37e25e4e",
   "metadata": {},
   "outputs": [
    {
     "data": {
      "text/plain": [
       "['This is first line number.',\n",
       " 'This is second line number.',\n",
       " 'I am very happy to be here finally.']"
      ]
     },
     "execution_count": 90,
     "metadata": {},
     "output_type": "execute_result"
    }
   ],
   "source": [
    "# sent_tokenize : convert paragraph(corpus) to sentence\n",
    "sentences = nltk.sent_tokenize(paragraph)\n",
    "sentences"
   ]
  },
  {
   "cell_type": "code",
   "execution_count": 91,
   "id": "b86883e5",
   "metadata": {},
   "outputs": [
    {
     "data": {
      "text/plain": [
       "['This',\n",
       " 'is',\n",
       " 'first',\n",
       " 'line',\n",
       " 'number',\n",
       " '.',\n",
       " 'This',\n",
       " 'is',\n",
       " 'second',\n",
       " 'line',\n",
       " 'number',\n",
       " '.',\n",
       " 'I',\n",
       " 'am',\n",
       " 'very',\n",
       " 'happy',\n",
       " 'to',\n",
       " 'be',\n",
       " 'here',\n",
       " 'finally',\n",
       " '.']"
      ]
     },
     "execution_count": 91,
     "metadata": {},
     "output_type": "execute_result"
    }
   ],
   "source": [
    "# Tokenization : convert sentence to words\n",
    "nltk.word_tokenize(paragraph)"
   ]
  },
  {
   "cell_type": "code",
   "execution_count": 68,
   "id": "682ff3f1",
   "metadata": {},
   "outputs": [
    {
     "data": {
      "text/plain": [
       "'final'"
      ]
     },
     "execution_count": 68,
     "metadata": {},
     "output_type": "execute_result"
    }
   ],
   "source": [
    "from nltk.stem import PorterStemmer\n",
    "stemmer = PorterStemmer()\n",
    "stemmer.stem(\"finally\") # gives root word"
   ]
  },
  {
   "cell_type": "code",
   "execution_count": 69,
   "id": "1aeac409",
   "metadata": {},
   "outputs": [
    {
     "data": {
      "text/plain": [
       "'histori'"
      ]
     },
     "execution_count": 69,
     "metadata": {},
     "output_type": "execute_result"
    }
   ],
   "source": [
    "stemmer.stem(\"history\") "
   ]
  },
  {
   "cell_type": "code",
   "execution_count": 70,
   "id": "599798f7",
   "metadata": {},
   "outputs": [
    {
     "data": {
      "text/plain": [
       "'go'"
      ]
     },
     "execution_count": 70,
     "metadata": {},
     "output_type": "execute_result"
    }
   ],
   "source": [
    "stemmer.stem(\"Going\") "
   ]
  },
  {
   "cell_type": "markdown",
   "id": "34291a2f",
   "metadata": {},
   "source": [
    "### Disadvantage of stemming\n",
    "The meaning of the word changes. \n",
    "Example: \n",
    "1) \"going\" changed to \"go\" \\\n",
    "2) \"finally\" changed to \"final\""
   ]
  },
  {
   "cell_type": "markdown",
   "id": "c6a71084",
   "metadata": {},
   "source": [
    "## Lemmatization\n",
    "It looksup into dictionary and returns meaningful word if present"
   ]
  },
  {
   "cell_type": "markdown",
   "id": "fd9d9108",
   "metadata": {},
   "source": [
    "#### WordNet Lemmatizer\n",
    "\n",
    "Lemmatize using WordNet’s built-in morphy function. Returns the input word unchanged if it cannot be found in WordNet."
   ]
  },
  {
   "cell_type": "code",
   "execution_count": 71,
   "id": "f5143b50",
   "metadata": {},
   "outputs": [
    {
     "data": {
      "text/plain": [
       "'dog'"
      ]
     },
     "execution_count": 71,
     "metadata": {},
     "output_type": "execute_result"
    }
   ],
   "source": [
    "from nltk.stem import WordNetLemmatizer\n",
    "lemmatizer = WordNetLemmatizer()\n",
    "lemmatizer.lemmatize(\"dogs\")"
   ]
  },
  {
   "cell_type": "code",
   "execution_count": 72,
   "id": "e8551225",
   "metadata": {},
   "outputs": [
    {
     "data": {
      "text/plain": [
       "'dog'"
      ]
     },
     "execution_count": 72,
     "metadata": {},
     "output_type": "execute_result"
    }
   ],
   "source": [
    "lemmatizer.lemmatize(\"dog\") # returns word unchanged as it cannot be found in the WordNet"
   ]
  },
  {
   "cell_type": "code",
   "execution_count": 73,
   "id": "9dcd2fc3",
   "metadata": {},
   "outputs": [
    {
     "name": "stdout",
     "output_type": "stream",
     "text": [
      "['thi', 'is', 'first', 'line', 'number', '.']\n",
      "['thi', 'is', 'second', 'line', 'number', '.']\n",
      "['i', 'am', 'veri', 'happi', 'to', 'be', 'here', 'final', '.']\n"
     ]
    }
   ],
   "source": [
    "corpus = []\n",
    "def stem_tokens():\n",
    "    for i in range(len(sentences)):\n",
    "        word_token = nltk.word_tokenize(sentences[i])\n",
    "        words =[stemmer.stem(word) for word in word_token]\n",
    "        print(words)\n",
    "        corpus.append(\" \".join(words))\n",
    "stem_tokens()"
   ]
  },
  {
   "cell_type": "code",
   "execution_count": 74,
   "id": "e20162ad",
   "metadata": {},
   "outputs": [
    {
     "name": "stdout",
     "output_type": "stream",
     "text": [
      "['thi is first line number .', 'thi is second line number .', 'i am veri happi to be here final .']\n"
     ]
    }
   ],
   "source": [
    "print(corpus)"
   ]
  },
  {
   "cell_type": "markdown",
   "id": "e64be8be",
   "metadata": {},
   "source": [
    "#### applying lemmatizer in above sentence\n"
   ]
  },
  {
   "cell_type": "code",
   "execution_count": 75,
   "id": "a3ac5e76",
   "metadata": {},
   "outputs": [
    {
     "name": "stdout",
     "output_type": "stream",
     "text": [
      "['This', 'is', 'first', 'line', 'number', '.']\n",
      "['This', 'is', 'second', 'line', 'number', '.']\n",
      "['I', 'am', 'very', 'happy', 'to', 'be', 'here', 'finally', '.']\n"
     ]
    }
   ],
   "source": [
    "corpus = []\n",
    "def lemm_tokens():\n",
    "    for i in range(len(sentences)):\n",
    "        word_token = nltk.word_tokenize(sentences[i])\n",
    "        words =[lemmatizer.lemmatize(word) for word in word_token]\n",
    "        print(words)\n",
    "        corpus.append(\" \".join(words))\n",
    "lemm_tokens()        "
   ]
  },
  {
   "cell_type": "code",
   "execution_count": 76,
   "id": "38342d29",
   "metadata": {},
   "outputs": [
    {
     "name": "stdout",
     "output_type": "stream",
     "text": [
      "['This is first line number .', 'This is second line number .', 'I am very happy to be here finally .']\n"
     ]
    }
   ],
   "source": [
    "print(corpus)"
   ]
  },
  {
   "cell_type": "markdown",
   "id": "7938befa",
   "metadata": {},
   "source": [
    "## StopWords "
   ]
  },
  {
   "cell_type": "code",
   "execution_count": 123,
   "id": "622a665a",
   "metadata": {},
   "outputs": [
    {
     "name": "stdout",
     "output_type": "stream",
     "text": [
      "['i', 'me', 'my', 'myself', 'we', 'our', 'ours', 'ourselves', 'you', \"you're\", \"you've\", \"you'll\", \"you'd\", 'your', 'yours', 'yourself', 'yourselves', 'he', 'him', 'his', 'himself', 'she', \"she's\", 'her', 'hers', 'herself', 'it', \"it's\", 'its', 'itself', 'they', 'them', 'their', 'theirs', 'themselves', 'what', 'which', 'who', 'whom', 'this', 'that', \"that'll\", 'these', 'those', 'am', 'is', 'are', 'was', 'were', 'be', 'been', 'being', 'have', 'has', 'had', 'having', 'do', 'does', 'did', 'doing', 'a', 'an', 'the', 'and', 'but', 'if', 'or', 'because', 'as', 'until', 'while', 'of', 'at', 'by', 'for', 'with', 'about', 'against', 'between', 'into', 'through', 'during', 'before', 'after', 'above', 'below', 'to', 'from', 'up', 'down', 'in', 'out', 'on', 'off', 'over', 'under', 'again', 'further', 'then', 'once', 'here', 'there', 'when', 'where', 'why', 'how', 'all', 'any', 'both', 'each', 'few', 'more', 'most', 'other', 'some', 'such', 'no', 'nor', 'only', 'own', 'same', 'so', 'than', 'too', 'very', 's', 't', 'can', 'will', 'just', 'don', \"don't\", 'should', \"should've\", 'now', 'd', 'll', 'm', 'o', 're', 've', 'y', 'ain', 'aren', \"aren't\", 'couldn', \"couldn't\", 'didn', \"didn't\", 'doesn', \"doesn't\", 'hadn', \"hadn't\", 'hasn', \"hasn't\", 'haven', \"haven't\", 'isn', \"isn't\", 'ma', 'mightn', \"mightn't\", 'mustn', \"mustn't\", 'needn', \"needn't\", 'shan', \"shan't\", 'shouldn', \"shouldn't\", 'wasn', \"wasn't\", 'weren', \"weren't\", 'won', \"won't\", 'wouldn', \"wouldn't\"]\n"
     ]
    }
   ],
   "source": [
    "from nltk.corpus import stopwords\n",
    "stop_words = stopwords.words(\"English\")\n",
    "stop_words.remove(negative) for negative in ['not','no','don',\"don't\",'']\n",
    "print(stop_words)"
   ]
  },
  {
   "cell_type": "markdown",
   "id": "d2c25c89",
   "metadata": {},
   "source": [
    "#### Example 1 : Stemming on paragraph\n"
   ]
  },
  {
   "cell_type": "code",
   "execution_count": 97,
   "id": "fbf4e7e0",
   "metadata": {},
   "outputs": [],
   "source": [
    "second_paragraph = \"\"\"\n",
    "Mohandas Karamchand Gandhi[41] was born on 2 October 1869[42] into a Gujarati Hindu Modh Bania family[43][44] in Porbandar (also known as Sudamapuri), a coastal town on the Kathiawar Peninsula and then part of the small princely state of Porbandar in the Kathiawar Agency of the British Raj. His father, Karamchand Uttamchand Gandhi (1822–1885), served as the dewan (chief minister) of Porbandar state.[45][5] His family originated from the then village of Kutiana in what was then Junagadh State.[46]\n",
    "\"\"\""
   ]
  },
  {
   "cell_type": "code",
   "execution_count": 98,
   "id": "907a5cc8",
   "metadata": {},
   "outputs": [
    {
     "data": {
      "text/plain": [
       "'\\nMohandas Karamchand Gandhi[41] was born on 2 October 1869[42] into a Gujarati Hindu Modh Bania family[43][44] in Porbandar (also known as Sudamapuri), a coastal town on the Kathiawar Peninsula and then part of the small princely state of Porbandar in the Kathiawar Agency of the British Raj. His father, Karamchand Uttamchand Gandhi (1822–1885), served as the dewan (chief minister) of Porbandar state.[45][5] His family originated from the then village of Kutiana in what was then Junagadh State.[46]\\n'"
      ]
     },
     "execution_count": 98,
     "metadata": {},
     "output_type": "execute_result"
    }
   ],
   "source": [
    "second_paragraph"
   ]
  },
  {
   "cell_type": "code",
   "execution_count": 105,
   "id": "df7e334f",
   "metadata": {},
   "outputs": [
    {
     "data": {
      "text/plain": [
       "['\\nMohandas Karamchand Gandhi[41] was born on 2 October 1869[42] into a Gujarati Hindu Modh Bania family[43][44] in Porbandar (also known as Sudamapuri), a coastal town on the Kathiawar Peninsula and then part of the small princely state of Porbandar in the Kathiawar Agency of the British Raj.',\n",
       " 'His father, Karamchand Uttamchand Gandhi (1822–1885), served as the dewan (chief minister) of Porbandar state.',\n",
       " '[45][5] His family originated from the then village of Kutiana in what was then Junagadh State.',\n",
       " '[46]']"
      ]
     },
     "execution_count": 105,
     "metadata": {},
     "output_type": "execute_result"
    }
   ],
   "source": [
    "second_sentence = nltk.sent_tokenize(second_paragraph)\n",
    "second_sentence # A list of sentences"
   ]
  },
  {
   "cell_type": "code",
   "execution_count": 115,
   "id": "a4bb0cd9",
   "metadata": {},
   "outputs": [],
   "source": [
    "second_corpus = []\n",
    "for i in range(len(second_sentence)):\n",
    "    words = nltk.word_tokenize(second_sentence[i])\n",
    "    words = [stemmer.stem(word) for word in words if word not in stop_words]\n",
    "    second_corpus.append(\" \".join(words))"
   ]
  },
  {
   "cell_type": "code",
   "execution_count": 116,
   "id": "d2956c99",
   "metadata": {},
   "outputs": [
    {
     "data": {
      "text/plain": [
       "['mohanda karamchand gandhi [ 41 ] born 2 octob 1869 [ 42 ] gujarati hindu modh bania famili [ 43 ] [ 44 ] porbandar ( also known sudamapuri ) , coastal town kathiawar peninsula part small princ state porbandar kathiawar agenc british raj .',\n",
       " 'hi father , karamchand uttamchand gandhi ( 1822–1885 ) , serv dewan ( chief minist ) porbandar state .',\n",
       " '[ 45 ] [ 5 ] hi famili origin villag kutiana junagadh state .',\n",
       " '[ 46 ]']"
      ]
     },
     "execution_count": 116,
     "metadata": {},
     "output_type": "execute_result"
    }
   ],
   "source": [
    "second_corpus"
   ]
  },
  {
   "cell_type": "code",
   "execution_count": null,
   "id": "35b104d4",
   "metadata": {},
   "outputs": [],
   "source": [
    "for i in range(len(second_sentence)):\n",
    "    words = nltk.word_tokenize(second_sentence[i])\n",
    "    #### Example 1 : Stemming on paragraph\n",
    "words = [word for word in words if word not in stop_words]\n",
    "    second_corpus.append(\" \".join(words))"
   ]
  },
  {
   "cell_type": "markdown",
   "id": "4cfbb02a",
   "metadata": {},
   "source": [
    "#### Example 2 : Lemmatize on paragraph\n"
   ]
  },
  {
   "cell_type": "code",
   "execution_count": 120,
   "id": "508c93d5",
   "metadata": {},
   "outputs": [],
   "source": [
    "third_corpus = []\n",
    "for i in range(len(second_sentence)):\n",
    "    words = nltk.word_tokenize(second_sentence[i].lower())\n",
    "    words = [lemmatizer.lemmatize(word) for word in words if word not in stop_words]\n",
    "    third_corpus.append(\" \".join(words))"
   ]
  },
  {
   "cell_type": "code",
   "execution_count": 121,
   "id": "df896752",
   "metadata": {},
   "outputs": [
    {
     "data": {
      "text/plain": [
       "['mohandas karamchand gandhi [ 41 ] born 2 october 1869 [ 42 ] gujarati hindu modh bania family [ 43 ] [ 44 ] porbandar ( also known sudamapuri ) , coastal town kathiawar peninsula part small princely state porbandar kathiawar agency british raj .',\n",
       " 'father , karamchand uttamchand gandhi ( 1822–1885 ) , served dewan ( chief minister ) porbandar state .',\n",
       " '[ 45 ] [ 5 ] family originated village kutiana junagadh state .',\n",
       " '[ 46 ]']"
      ]
     },
     "execution_count": 121,
     "metadata": {},
     "output_type": "execute_result"
    }
   ],
   "source": [
    "third_corpus"
   ]
  },
  {
   "cell_type": "code",
   "execution_count": 134,
   "id": "e0ce2b19",
   "metadata": {},
   "outputs": [
    {
     "name": "stdout",
     "output_type": "stream",
     "text": [
      "\u001b[33mWARNING: The directory '/Users/hpillai/Library/Caches/pip' or its parent directory is not owned or is not writable by the current user. The cache has been disabled. Check the permissions and owner of that directory. If executing pip with sudo, you should use sudo's -H flag.\u001b[0m\n",
      "Found existing installation: pytube3 9.6.4\n",
      "Uninstalling pytube3-9.6.4:\n",
      "  Would remove:\n",
      "    /Users/hpillai/.pyenv/versions/3.7.7/bin/pytube3\n",
      "    /Users/hpillai/.pyenv/versions/3.7.7/lib/python3.7/site-packages/pytube/*\n",
      "    /Users/hpillai/.pyenv/versions/3.7.7/lib/python3.7/site-packages/pytube3-9.6.4.dist-info/*\n",
      "  Would not remove (might be manually added):\n",
      "    /Users/hpillai/.pyenv/versions/3.7.7/lib/python3.7/site-packages/pytube/contrib/channel.py\n",
      "    /Users/hpillai/.pyenv/versions/3.7.7/lib/python3.7/site-packages/pytube/contrib/search.py\n",
      "    /Users/hpillai/.pyenv/versions/3.7.7/lib/python3.7/site-packages/pytube/innertube.py\n",
      "    /Users/hpillai/.pyenv/versions/3.7.7/lib/python3.7/site-packages/pytube/metadata.py\n",
      "    /Users/hpillai/.pyenv/versions/3.7.7/lib/python3.7/site-packages/pytube/parser.py\n",
      "Proceed (Y/n)? ^C\n",
      "\u001b[31mERROR: Operation cancelled by user\u001b[0m\n"
     ]
    },
    {
     "ename": "NameError",
     "evalue": "name 'Y' is not defined",
     "output_type": "error",
     "traceback": [
      "\u001b[0;31m---------------------------------------------------------------------------\u001b[0m",
      "\u001b[0;31mNameError\u001b[0m                                 Traceback (most recent call last)",
      "\u001b[0;32m/var/folders/yb/qknsk9l12476tshk2ylm1tyw0000gq/T/ipykernel_21584/580578788.py\u001b[0m in \u001b[0;36m<module>\u001b[0;34m\u001b[0m\n\u001b[1;32m      1\u001b[0m \u001b[0mget_ipython\u001b[0m\u001b[0;34m(\u001b[0m\u001b[0;34m)\u001b[0m\u001b[0;34m.\u001b[0m\u001b[0msystem\u001b[0m\u001b[0;34m(\u001b[0m\u001b[0;34m'pip uninstall pytube3'\u001b[0m\u001b[0;34m)\u001b[0m\u001b[0;34m\u001b[0m\u001b[0;34m\u001b[0m\u001b[0m\n\u001b[0;32m----> 2\u001b[0;31m \u001b[0mY\u001b[0m\u001b[0;34m\u001b[0m\u001b[0;34m\u001b[0m\u001b[0m\n\u001b[0m",
      "\u001b[0;31mNameError\u001b[0m: name 'Y' is not defined"
     ]
    }
   ],
   "source": [
    "!pip uninstall pytube3\n",
    "Y"
   ]
  },
  {
   "cell_type": "code",
   "execution_count": null,
   "id": "d9d9571c",
   "metadata": {},
   "outputs": [],
   "source": [
    "Y"
   ]
  },
  {
   "cell_type": "code",
   "execution_count": 129,
   "id": "7568937a",
   "metadata": {},
   "outputs": [
    {
     "ename": "ModuleNotFoundError",
     "evalue": "No module named 'pytube3'",
     "output_type": "error",
     "traceback": [
      "\u001b[0;31m---------------------------------------------------------------------------\u001b[0m",
      "\u001b[0;31mModuleNotFoundError\u001b[0m                       Traceback (most recent call last)",
      "\u001b[0;32m/var/folders/yb/qknsk9l12476tshk2ylm1tyw0000gq/T/ipykernel_21584/4208519333.py\u001b[0m in \u001b[0;36m<module>\u001b[0;34m\u001b[0m\n\u001b[0;32m----> 1\u001b[0;31m \u001b[0;32mfrom\u001b[0m \u001b[0mpytube3\u001b[0m \u001b[0;32mimport\u001b[0m \u001b[0mVimeo\u001b[0m\u001b[0;34m\u001b[0m\u001b[0;34m\u001b[0m\u001b[0m\n\u001b[0m\u001b[1;32m      2\u001b[0m \u001b[0;34m\u001b[0m\u001b[0m\n\u001b[1;32m      3\u001b[0m \u001b[0;31m# Create a Vimeo object with the video URL\u001b[0m\u001b[0;34m\u001b[0m\u001b[0;34m\u001b[0m\u001b[0;34m\u001b[0m\u001b[0m\n\u001b[1;32m      4\u001b[0m \u001b[0murl\u001b[0m \u001b[0;34m=\u001b[0m \u001b[0;34m'https://i.vimeocdn.com/video/1474656009-dd9c2bc88fb69742434c68956c3aa2f4aedbf902f6b36981ba5c97271aad63ce-d?mw=1600&mh=1000&q=70'\u001b[0m\u001b[0;34m\u001b[0m\u001b[0;34m\u001b[0m\u001b[0m\n\u001b[1;32m      5\u001b[0m \u001b[0mvimeo\u001b[0m \u001b[0;34m=\u001b[0m \u001b[0mVimeo\u001b[0m\u001b[0;34m(\u001b[0m\u001b[0murl\u001b[0m\u001b[0;34m)\u001b[0m\u001b[0;34m\u001b[0m\u001b[0;34m\u001b[0m\u001b[0m\n",
      "\u001b[0;31mModuleNotFoundError\u001b[0m: No module named 'pytube3'"
     ]
    }
   ],
   "source": [
    "from pytube import Vimeo\n",
    "\n",
    "# Create a Vimeo object with the video URL\n",
    "url = 'https://i.vimeocdn.com/video/1474656009-dd9c2bc88fb69742434c68956c3aa2f4aedbf902f6b36981ba5c97271aad63ce-d?mw=1600&mh=1000&q=70'\n",
    "vimeo = Vimeo(url)\n",
    "\n",
    "# Get the video stream\n",
    "stream = vimeo.streams.get_by_itag(18)\n",
    "\n",
    "# Download the video file\n",
    "filename = 'video.mp4'\n",
    "stream.download(filename)"
   ]
  },
  {
   "cell_type": "code",
   "execution_count": null,
   "id": "087fc400",
   "metadata": {},
   "outputs": [],
   "source": []
  }
 ],
 "metadata": {
  "kernelspec": {
   "display_name": "Python 3 (ipykernel)",
   "language": "python",
   "name": "python3"
  },
  "language_info": {
   "codemirror_mode": {
    "name": "ipython",
    "version": 3
   },
   "file_extension": ".py",
   "mimetype": "text/x-python",
   "name": "python",
   "nbconvert_exporter": "python",
   "pygments_lexer": "ipython3",
   "version": "3.7.7"
  }
 },
 "nbformat": 4,
 "nbformat_minor": 5
}
