{
 "cells": [
  {
   "attachments": {},
   "cell_type": "markdown",
   "id": "bdf3a8e5",
   "metadata": {},
   "source": [
    "### 1. What are the two values of the Boolean data type? How do you write them?"
   ]
  },
  {
   "cell_type": "markdown",
   "id": "37ef3fb5",
   "metadata": {},
   "source": [
    "True and False are two boolean data types. \n",
    "\n",
    "Written as:\n",
    "\n",
    "True\n",
    "\n",
    "False"
   ]
  },
  {
   "attachments": {},
   "cell_type": "markdown",
   "id": "3daadf1f",
   "metadata": {},
   "source": [
    "### 2. What are the three different types of Boolean operators?"
   ]
  },
  {
   "cell_type": "markdown",
   "id": "c8eb7445",
   "metadata": {},
   "source": [
    "and -> it gives true only when both the operands(or all operands) are true\n",
    "\n",
    "or  -> it gives true when atleast one operand is true\n",
    "\n",
    "not -> it complements the current value. toggle between true and false"
   ]
  },
  {
   "attachments": {},
   "cell_type": "markdown",
   "id": "3b5cd8d4",
   "metadata": {},
   "source": [
    "### 3. Make a list of each Boolean operator's truth tables (i.e. every possible combination of Boolean values for the operator and what it evaluate )"
   ]
  },
  {
   "cell_type": "markdown",
   "id": "02398d5c",
   "metadata": {},
   "source": [
    "Truth table for and operator"
   ]
  },
  {
   "cell_type": "code",
   "execution_count": 15,
   "id": "e565577e",
   "metadata": {},
   "outputs": [
    {
     "name": "stdout",
     "output_type": "stream",
     "text": [
      "Truth table: and operator\n",
      "A and B | Output\n",
      "0 and 0 = 0\n",
      "0 and 1 = 0\n",
      "1 and 0 = 0\n",
      "1 and 1 = 1\n"
     ]
    }
   ],
   "source": [
    "column_one = [0,0,1,1]\n",
    "column_two = [0,1,0,1]\n",
    "print(\"Truth table: and operator\")\n",
    "print(\"A and B | Output\")\n",
    "for i in range(len(column_one)):\n",
    "    print(f\"{column_one[i]} and {column_two[i]} = {column_one[i] and column_two[i]}\")"
   ]
  },
  {
   "cell_type": "code",
   "execution_count": 16,
   "id": "6c554cad",
   "metadata": {},
   "outputs": [
    {
     "name": "stdout",
     "output_type": "stream",
     "text": [
      "Truth table: or operator\n",
      "A or B | Output\n",
      "0 or 0 = 0\n",
      "0 or 1 = 1\n",
      "1 or 0 = 1\n",
      "1 or 1 = 1\n"
     ]
    }
   ],
   "source": [
    "print(\"Truth table: or operator\")\n",
    "print(\"A or B | Output\")\n",
    "for i in range(len(column_one)):\n",
    "    print(f\"{column_one[i]} or {column_two[i]} = {column_one[i] or column_two[i]}\")"
   ]
  },
  {
   "cell_type": "code",
   "execution_count": 17,
   "id": "b5212251",
   "metadata": {},
   "outputs": [
    {
     "name": "stdout",
     "output_type": "stream",
     "text": [
      "Truth table: not operator\n",
      "not A | Output\n",
      "not 0 = 1\n",
      "not 1 = 0\n"
     ]
    }
   ],
   "source": [
    "column_one = [0,1]\n",
    "print(\"Truth table: not operator\")\n",
    "print(\"not A | Output\")\n",
    "for i in range(len(column_one)):\n",
    "    print(f\"not {column_one[i]} = {int(not column_one[i])}\")"
   ]
  },
  {
   "attachments": {},
   "cell_type": "markdown",
   "id": "23cbdb12",
   "metadata": {},
   "source": [
    "### 4. What are the values of the following expressions?"
   ]
  },
  {
   "cell_type": "code",
   "execution_count": 2,
   "id": "04f22d1e",
   "metadata": {},
   "outputs": [
    {
     "data": {
      "text/plain": [
       "True"
      ]
     },
     "execution_count": 2,
     "metadata": {},
     "output_type": "execute_result"
    }
   ],
   "source": [
    "(5 > 4) and (3 == 5)\n",
    "False\n",
    "\n",
    "not (5 > 4)\n",
    "False\n",
    "\n",
    "(5 > 4) or (3 == 5)\n",
    "True\n",
    "\n",
    "not ((5 > 4) or (3 == 5))\n",
    "False\n",
    "\n",
    "(True and True) and (True == False)\n",
    "False\n",
    "\n",
    "(not False) or (not True)\n",
    "True"
   ]
  },
  {
   "attachments": {},
   "cell_type": "markdown",
   "id": "6012a810",
   "metadata": {},
   "source": [
    "### 5. What are the six comparison operators?"
   ]
  },
  {
   "cell_type": "markdown",
   "id": "d5539b5b",
   "metadata": {},
   "source": [
    "< , > , == , <= , >= and !="
   ]
  },
  {
   "attachments": {},
   "cell_type": "markdown",
   "id": "0850a5c5",
   "metadata": {},
   "source": [
    "### 6. How do you tell the difference between the equal to and assignment operators?Describe a condition and when you would use one."
   ]
  },
  {
   "cell_type": "markdown",
   "id": "a8c5ca01",
   "metadata": {},
   "source": [
    "== is the equals to operator and it evaluates to boolean output\n",
    "\n",
    "= is the assignment operator which assigns value to variable "
   ]
  },
  {
   "cell_type": "code",
   "execution_count": 19,
   "id": "ab50f045",
   "metadata": {},
   "outputs": [
    {
     "name": "stdout",
     "output_type": "stream",
     "text": [
      "True\n",
      "variable is assigned value 11\n"
     ]
    }
   ],
   "source": [
    "if 5 == 4:\n",
    "    print(False)\n",
    "else:\n",
    "    print(True)\n",
    "variable = 11\n",
    "print(f\"variable is assigned value {variable}\")"
   ]
  },
  {
   "attachments": {},
   "cell_type": "markdown",
   "id": "9e597d4c",
   "metadata": {},
   "source": [
    "### 7. Identify the three blocks in this code\n",
    "\n"
   ]
  },
  {
   "cell_type": "code",
   "execution_count": 18,
   "id": "da680ad5",
   "metadata": {},
   "outputs": [
    {
     "name": "stdout",
     "output_type": "stream",
     "text": [
      "ham\n",
      "spam\n",
      "spam\n"
     ]
    }
   ],
   "source": [
    "spam = 0\n",
    "if spam == 10:\n",
    "    print('eggs')  # Block 1\n",
    "if spam > 5:\n",
    "    print('bacon') # Block 2\n",
    "else:\n",
    "    print('ham')   # Block 3\n",
    "    print('spam')\n",
    "    print('spam')\n"
   ]
  },
  {
   "attachments": {},
   "cell_type": "markdown",
   "id": "17854367",
   "metadata": {},
   "source": [
    "### 8. Write code that prints Hello if 1 is stored in spam, prints Howdy if 2 is stored in spam, and prints Greetings! if anything else is stored in spam."
   ]
  },
  {
   "cell_type": "code",
   "execution_count": 22,
   "id": "ef4aad95",
   "metadata": {},
   "outputs": [
    {
     "name": "stdout",
     "output_type": "stream",
     "text": [
      "Enter a number for spam: 2\n",
      "Howdy\n"
     ]
    }
   ],
   "source": [
    "spam = int(input(\"Enter a number for spam: \"))\n",
    "if spam == 1:\n",
    "    print(\"Hello\")\n",
    "elif spam == 2:\n",
    "    print(\"Howdy\")\n",
    "else:\n",
    "    print(\"Greetings!\")"
   ]
  },
  {
   "attachments": {},
   "cell_type": "markdown",
   "id": "3a03ef95",
   "metadata": {},
   "source": [
    "### 9. If your programme is stuck in an endless loop, what keys you’ll press?"
   ]
  },
  {
   "cell_type": "markdown",
   "id": "18df17e0",
   "metadata": {},
   "source": [
    "If a program is stuck in endless loop we will press: ctrl + c"
   ]
  },
  {
   "attachments": {},
   "cell_type": "markdown",
   "id": "dc357cc0",
   "metadata": {},
   "source": [
    "### 10. How can you tell the difference between break and continue?"
   ]
  },
  {
   "cell_type": "markdown",
   "id": "a7d2681c",
   "metadata": {},
   "source": [
    "break is used to stop the execution of the entire loop\n",
    "\n",
    "continue is used to stop the execution of current iteration\n",
    "\n"
   ]
  },
  {
   "cell_type": "code",
   "execution_count": 28,
   "id": "faaa5533",
   "metadata": {},
   "outputs": [
    {
     "name": "stdout",
     "output_type": "stream",
     "text": [
      "0\n",
      "1\n",
      "Continue\n",
      "3\n",
      "Break\n"
     ]
    }
   ],
   "source": [
    "for i in range(6):\n",
    "    if i == 4:    # this stops the execution of all code after iteration i = 4 including it\n",
    "        print(\"Break\")\n",
    "        break\n",
    "    if i == 2:    # this stops the execution of only one iteration i = 2\n",
    "        print(\"Continue\")\n",
    "        continue\n",
    "        print(i+1)\n",
    "    print(i)\n",
    "    "
   ]
  },
  {
   "cell_type": "markdown",
   "id": "213f5e84",
   "metadata": {},
   "source": [
    "### 11. In a for loop, what is the difference between range(10), range(0, 10), and range(0, 10, 1)?"
   ]
  },
  {
   "cell_type": "markdown",
   "id": "ca115f8a",
   "metadata": {},
   "source": [
    "there is no difference between range(10),range(0, 10), and range(0, 10, 1) in terms of output\n",
    "\n",
    "\n",
    "range(10) -> range start is default set which is 0 and ends at 10(go till 9) with step 1 which is default\n",
    "\n",
    "range(0,10) -> range start is set as 0, end is 10(go till 9) and step is default set to 1\n",
    "\n",
    "range(0,10,1) -> range start is set as 0, end is also set as 10(go till 9) and step is set to 1 \n"
   ]
  },
  {
   "attachments": {},
   "cell_type": "markdown",
   "id": "2bcb5d34",
   "metadata": {},
   "source": [
    "### 12. Write a short program that prints the numbers 1 to 10 using a for loop. Then write an equivalent program that prints the numbers 1 to 10 using a while loop."
   ]
  },
  {
   "cell_type": "code",
   "execution_count": 33,
   "id": "35c001df",
   "metadata": {},
   "outputs": [
    {
     "name": "stdout",
     "output_type": "stream",
     "text": [
      "print 1 to 10 using for loop\n",
      "1\n",
      "2\n",
      "3\n",
      "4\n",
      "5\n",
      "6\n",
      "7\n",
      "8\n",
      "9\n",
      "10\n"
     ]
    }
   ],
   "source": [
    "print(\"print 1 to 10 using for loop\")\n",
    "for i in range(1,11):\n",
    "    print(i)"
   ]
  },
  {
   "cell_type": "code",
   "execution_count": 32,
   "id": "f406600d",
   "metadata": {},
   "outputs": [
    {
     "name": "stdout",
     "output_type": "stream",
     "text": [
      "print 1 to 10 using while loop\n",
      "1\n",
      "2\n",
      "3\n",
      "4\n",
      "5\n",
      "6\n",
      "7\n",
      "8\n",
      "9\n",
      "10\n"
     ]
    }
   ],
   "source": [
    "print(\"print 1 to 10 using while loop\")\n",
    "count = 1\n",
    "while count < 11:\n",
    "    print(count)\n",
    "    count+=1"
   ]
  },
  {
   "attachments": {},
   "cell_type": "markdown",
   "id": "29c23bbd",
   "metadata": {},
   "source": [
    "### 13. If you had a function named bacon() inside a module named spam, how would you call it after importing spam?"
   ]
  },
  {
   "cell_type": "markdown",
   "id": "315449d0",
   "metadata": {},
   "source": [
    "the function can be called by \n",
    "\n",
    "spam.bacon()"
   ]
  },
  {
   "cell_type": "code",
   "execution_count": null,
   "id": "cd912c16",
   "metadata": {},
   "outputs": [],
   "source": []
  }
 ],
 "metadata": {
  "kernelspec": {
   "display_name": "Python 3 (ipykernel)",
   "language": "python",
   "name": "python3"
  },
  "language_info": {
   "codemirror_mode": {
    "name": "ipython",
    "version": 3
   },
   "file_extension": ".py",
   "mimetype": "text/x-python",
   "name": "python",
   "nbconvert_exporter": "python",
   "pygments_lexer": "ipython3",
   "version": "3.7.7"
  }
 },
 "nbformat": 4,
 "nbformat_minor": 5
}
