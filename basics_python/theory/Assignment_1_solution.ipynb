{
 "cells": [
  {
   "cell_type": "markdown",
   "id": "bdf3a8e5",
   "metadata": {},
   "source": [
    "### 1. In the below elements which of them are values or an expression? eg:- values can be integer or string and expressions will be mathematical operators."
   ]
  },
  {
   "cell_type": "raw",
   "id": "ab47f879",
   "metadata": {},
   "source": [
    "* expression\n",
    "'hello' value\n",
    "-87.8   value\n",
    "- expression\n",
    "/ expression\n",
    "+ expression\n",
    "6  value"
   ]
  },
  {
   "cell_type": "markdown",
   "id": "3daadf1f",
   "metadata": {},
   "source": [
    "### 2. What is the difference between string and variable?"
   ]
  },
  {
   "cell_type": "markdown",
   "id": "c8eb7445",
   "metadata": {},
   "source": [
    "variable is a container that stores data. string is a value or data which is assigned to variable."
   ]
  },
  {
   "cell_type": "markdown",
   "id": "3b5cd8d4",
   "metadata": {},
   "source": [
    "### 3. Describe three different data types."
   ]
  },
  {
   "cell_type": "raw",
   "id": "c9b549e8",
   "metadata": {},
   "source": [
    "1) Numeric\n",
    "Numeric data types are integer- positive and negative whole numbers, float- real number with decimal point representation, complex numbers - numbers with complex and real part.\n",
    "\n",
    "2) Sequence \n",
    "String, list and tuple are sequence type data types.\n",
    "string- is a collection of unicode characters enclosed in single quotes, double quotes or triple quotes. \n",
    "list- it is an immutable collection of ordered data which need not to be of same type .\n",
    "tuple- it is imutable ordered data type which is similar to list.\n",
    "\n",
    "3) Boolean\n",
    "True and False are default values for boolean data type. Also operations can validate to boolean as output."
   ]
  },
  {
   "cell_type": "markdown",
   "id": "23cbdb12",
   "metadata": {},
   "source": [
    "### 4. What is an expression made up of? What do all expressions do?"
   ]
  },
  {
   "cell_type": "markdown",
   "id": "9760fbeb",
   "metadata": {},
   "source": [
    "expression is made up of operators() and operands(variables or data value) which is combined to get output value. \n",
    "Expressions are validated as per the precedence like division has higher precedence than multiplication, multiplication has higher than addition, addition has higher than subtraction"
   ]
  },
  {
   "cell_type": "markdown",
   "id": "6012a810",
   "metadata": {},
   "source": [
    "### 5. This assignment statements, like spam = 10. What is the difference between an expression and a statement?"
   ]
  },
  {
   "cell_type": "markdown",
   "id": "1fd55121",
   "metadata": {},
   "source": [
    "Expression is combination of value and functions which are executable to produce and output or return a value. statement is a standalone unit of execution and it does not return anything. When we have assigment statement like spam = 10, it stores value in variable spam and does not return anything hence it is a statement."
   ]
  },
  {
   "cell_type": "markdown",
   "id": "540dea56",
   "metadata": {},
   "source": [
    "### 6. After running the following code, what does the variable bacon contain?\n"
   ]
  },
  {
   "cell_type": "markdown",
   "id": "c24a3f72",
   "metadata": {},
   "source": [
    "bacon = 22\n",
    "\n",
    "bacon + 1"
   ]
  },
  {
   "cell_type": "raw",
   "id": "1c7e2507",
   "metadata": {},
   "source": [
    "bacon contains value 22. It remains same. there was an increment to bacon variable but that increment is not assigned back to bacon"
   ]
  },
  {
   "cell_type": "markdown",
   "id": "9e597d4c",
   "metadata": {},
   "source": [
    "### 7. What should the values of the following two terms be?\n",
    "'spam' + 'spamspam' \n",
    "\n",
    "'spam' * 3"
   ]
  },
  {
   "cell_type": "raw",
   "id": "8916f1df",
   "metadata": {},
   "source": [
    "'spam' + 'spamspam' gives output\n",
    "'spamspamspam'\n",
    "'spam' * 3 gives output\n",
    "'spamspamspam'\n",
    "\n",
    "both outputs of above are same"
   ]
  },
  {
   "cell_type": "markdown",
   "id": "17854367",
   "metadata": {},
   "source": [
    "### 8. Why is eggs a valid variable name while 100 is invalid?"
   ]
  },
  {
   "cell_type": "markdown",
   "id": "f5216ec8",
   "metadata": {},
   "source": [
    "variable names in python cannot start with digits or other special character except underscore(_). \n",
    "Hence eggs is a valid variable name. 100 is invalid"
   ]
  },
  {
   "cell_type": "markdown",
   "id": "3a03ef95",
   "metadata": {},
   "source": [
    "### 9. What three functions can be used to get the integer, floating-point number, or string version of a value?"
   ]
  },
  {
   "cell_type": "raw",
   "id": "2af4e57b",
   "metadata": {},
   "source": [
    "The int() , float() , and str() functions will evaluate to the integer, floating-point number, and string versions of the value passed to them."
   ]
  },
  {
   "cell_type": "markdown",
   "id": "dc357cc0",
   "metadata": {},
   "source": [
    "### 10. Why does this expression cause an error? How can you fix it?\n",
    "'I have eaten ' + 99 + ' burritos.'"
   ]
  },
  {
   "cell_type": "raw",
   "id": "c9409de3",
   "metadata": {},
   "source": [
    "\n",
    "\n",
    "We cannot concatenate string to integer value. In order to fix above we need to type cast string to number 99 which is an integer. \n",
    "\n",
    "Fixed:\n",
    "'I have eaten ' + str(99) + ' burritos.'\n",
    "\n",
    "In above code we have type casted integer 99 as string "
   ]
  }
 ],
 "metadata": {
  "kernelspec": {
   "display_name": "Python 3 (ipykernel)",
   "language": "python",
   "name": "python3"
  },
  "language_info": {
   "codemirror_mode": {
    "name": "ipython",
    "version": 3
   },
   "file_extension": ".py",
   "mimetype": "text/x-python",
   "name": "python",
   "nbconvert_exporter": "python",
   "pygments_lexer": "ipython3",
   "version": "3.7.7"
  }
 },
 "nbformat": 4,
 "nbformat_minor": 5
}
