{
 "cells": [
  {
   "cell_type": "markdown",
   "id": "df36d582",
   "metadata": {},
   "source": [
    "# Create dictionary in python and manipulate it"
   ]
  },
  {
   "cell_type": "markdown",
   "id": "75b66928",
   "metadata": {},
   "source": [
    "## Count the occurence of each word in the sentence and sort count in decreasing value"
   ]
  },
  {
   "cell_type": "code",
   "execution_count": 1,
   "id": "d2882240",
   "metadata": {},
   "outputs": [
    {
     "name": "stdout",
     "output_type": "stream",
     "text": [
      "[6, 4, 4, 3, 3, 2, 2, 2, 2, 2, 2, 2, 1, 1, 1, 1, 1, 1, 1, 1, 1, 1, 1, 1, 1, 1, 1, 1, 1, 1, 1, 1, 1, 1, 1, 1, 1, 1, 1, 1, 1, 1, 1, 1, 1, 1, 1, 1, 1, 1, 1, 1, 1, 1, 1, 1, 1, 1, 1, 1, 1, 1, 1, 1, 1, 1, 1, 1, 1]\n",
      "['the', 'Lorem', 'of', 'Ipsum', 'and', 'dummy', 'text', 'has', 'a', 'type', 'It', 'with', 'is', 'simply', 'printing', 'typesetting', 'industry.', 'been', \"industry's\", 'standard', 'ever', 'since', '1500s,', 'when', 'an', 'unknown', 'printer', 'took', 'galley', 'scrambled', 'it', 'to', 'make', 'specimen', 'book.', 'survived', 'not', 'only', 'five', 'centuries,', 'but', 'also', 'leap', 'into', 'electronic', 'typesetting,', 'remaining', 'essentially', 'unchanged.', 'was', 'popularised', 'in', '1960s', 'release', 'Letraset', 'sheets', 'containing', 'passages,', 'more', 'recently', 'desktop', 'publishing', 'software', 'like', 'Aldus', 'PageMaker', 'including', 'versions', 'Ipsum.']\n"
     ]
    }
   ],
   "source": [
    "string1 = \"\"\"Lorem Ipsum is simply dummy text of the printing and typesetting industry. \\\n",
    "Lorem Ipsum has been the industry's standard dummy text ever since the 1500s, \\\n",
    "when an unknown printer took a galley of type and scrambled it to make a type specimen book. \\\n",
    "It has survived not only five centuries, but also the leap into electronic typesetting, remaining essentially unchanged. \\\n",
    "It was popularised in the 1960s with the release of Letraset sheets containing Lorem Ipsum passages, \\\n",
    "and more recently with desktop publishing software like Aldus PageMaker including versions of Lorem Ipsum.\"\"\"\n",
    "\n",
    "dictionary = dict()\n",
    "words = string1.split(\" \")\n",
    "for word in words:\n",
    "    if word not in dictionary:\n",
    "        dictionary[word]=1\n",
    "    else:\n",
    "        dictionary[word]+=1\n",
    "        \n",
    "        \n",
    "# sort using key value pair stored in two arrays        \n",
    "        \n",
    "keys_1,values_1 = [],[]\n",
    "for i,j in dictionary.items():\n",
    "    keys_1.append(i)\n",
    "    values_1.append(j)\n",
    "\n",
    "\n",
    "\n",
    "for i in range(len(values_1)):\n",
    "    for j in range(0,len(values_1)-i-1):\n",
    "        if values_1[j]<values_1[j+1]:\n",
    "            temp = values_1[j]\n",
    "            temp2 = keys_1[j]\n",
    "            \n",
    "            values_1[j] = values_1[j+1]\n",
    "            keys_1[j] = keys_1[j+1]\n",
    "            \n",
    "            values_1[j+1] = temp\n",
    "            keys_1[j+1] = temp2\n",
    "\n",
    "print(values_1)            \n",
    "print(keys_1)"
   ]
  },
  {
   "cell_type": "code",
   "execution_count": 2,
   "id": "61dd030f",
   "metadata": {},
   "outputs": [
    {
     "data": {
      "text/plain": [
       "[('the', 6),\n",
       " ('of', 4),\n",
       " ('Lorem', 4),\n",
       " ('and', 3),\n",
       " ('Ipsum', 3),\n",
       " ('with', 2),\n",
       " ('It', 2),\n",
       " ('type', 2),\n",
       " ('a', 2),\n",
       " ('has', 2),\n",
       " ('text', 2),\n",
       " ('dummy', 2),\n",
       " ('Ipsum.', 1),\n",
       " ('versions', 1),\n",
       " ('including', 1),\n",
       " ('PageMaker', 1),\n",
       " ('Aldus', 1),\n",
       " ('like', 1),\n",
       " ('software', 1),\n",
       " ('publishing', 1),\n",
       " ('desktop', 1),\n",
       " ('recently', 1),\n",
       " ('more', 1),\n",
       " ('passages,', 1),\n",
       " ('containing', 1),\n",
       " ('sheets', 1),\n",
       " ('Letraset', 1),\n",
       " ('release', 1),\n",
       " ('1960s', 1),\n",
       " ('in', 1),\n",
       " ('popularised', 1),\n",
       " ('was', 1),\n",
       " ('unchanged.', 1),\n",
       " ('essentially', 1),\n",
       " ('remaining', 1),\n",
       " ('typesetting,', 1),\n",
       " ('electronic', 1),\n",
       " ('into', 1),\n",
       " ('leap', 1),\n",
       " ('also', 1),\n",
       " ('but', 1),\n",
       " ('centuries,', 1),\n",
       " ('five', 1),\n",
       " ('only', 1),\n",
       " ('not', 1),\n",
       " ('survived', 1),\n",
       " ('book.', 1),\n",
       " ('specimen', 1),\n",
       " ('make', 1),\n",
       " ('to', 1),\n",
       " ('it', 1),\n",
       " ('scrambled', 1),\n",
       " ('galley', 1),\n",
       " ('took', 1),\n",
       " ('printer', 1),\n",
       " ('unknown', 1),\n",
       " ('an', 1),\n",
       " ('when', 1),\n",
       " ('1500s,', 1),\n",
       " ('since', 1),\n",
       " ('ever', 1),\n",
       " ('standard', 1),\n",
       " (\"industry's\", 1),\n",
       " ('been', 1),\n",
       " ('industry.', 1),\n",
       " ('typesetting', 1),\n",
       " ('printing', 1),\n",
       " ('simply', 1),\n",
       " ('is', 1)]"
      ]
     },
     "execution_count": 2,
     "metadata": {},
     "output_type": "execute_result"
    }
   ],
   "source": [
    "# sort dictionary value using lambda function\n",
    "\n",
    "list(reversed(sorted(dictionary.items(),key=lambda x:x[1])))"
   ]
  },
  {
   "cell_type": "markdown",
   "id": "e2969608",
   "metadata": {},
   "source": [
    "# Serialization and Deserialization in python"
   ]
  },
  {
   "cell_type": "markdown",
   "id": "63a5006b",
   "metadata": {},
   "source": [
    "in Python, namely pickle and h5py."
   ]
  },
  {
   "cell_type": "code",
   "execution_count": 3,
   "id": "94f56975",
   "metadata": {},
   "outputs": [],
   "source": [
    "import pickle"
   ]
  },
  {
   "cell_type": "markdown",
   "id": "ef1d2d10",
   "metadata": {},
   "source": [
    "Serialization"
   ]
  },
  {
   "cell_type": "code",
   "execution_count": 4,
   "id": "1cb845d9",
   "metadata": {},
   "outputs": [],
   "source": [
    "test_data1= {\"Hello\": \"World!\"}\n",
    "with open(\"test.pickle\",\"wb\") as file:\n",
    "    pickle.dump(test_data1,file)      # dumps doesnot write to file"
   ]
  },
  {
   "cell_type": "code",
   "execution_count": 5,
   "id": "41ad9f40",
   "metadata": {},
   "outputs": [
    {
     "name": "stdout",
     "output_type": "stream",
     "text": [
      "�\u0003}q\u0000X\u0005\u0000\u0000\u0000Helloq\u0001X\u0006\u0000\u0000\u0000World!q\u0002s."
     ]
    }
   ],
   "source": [
    "!cat test.pickle"
   ]
  },
  {
   "cell_type": "markdown",
   "id": "0dda7b96",
   "metadata": {},
   "source": [
    "Deserialization"
   ]
  },
  {
   "cell_type": "code",
   "execution_count": 6,
   "id": "df63db7d",
   "metadata": {},
   "outputs": [
    {
     "name": "stdout",
     "output_type": "stream",
     "text": [
      "{'Hello': 'World!'}\n"
     ]
    }
   ],
   "source": [
    "with open(\"test.pickle\",\"rb\") as file:\n",
    "    test_data1_deserial = pickle.load(file)    # loads doesnot read from file\n",
    "    print(test_data1_deserial)"
   ]
  },
  {
   "cell_type": "code",
   "execution_count": 7,
   "id": "1e79ebd7",
   "metadata": {},
   "outputs": [
    {
     "name": "stdout",
     "output_type": "stream",
     "text": [
      "Success in Serialization and Deserialization\n"
     ]
    }
   ],
   "source": [
    "if test_data1 == test_data1_deserial:\n",
    "    print(\"Success in Serialization and Deserialization\")"
   ]
  },
  {
   "cell_type": "markdown",
   "id": "f94c11b7",
   "metadata": {},
   "source": [
    "# JSON dump vs dumps"
   ]
  },
  {
   "cell_type": "markdown",
   "id": "f313652f",
   "metadata": {},
   "source": [
    "dumps: json dumps is used to convert python object to json object\n",
    "\n",
    "dump: json dump is used to convert python object to json object and store it in a file(text/json)"
   ]
  },
  {
   "cell_type": "markdown",
   "id": "46eab539",
   "metadata": {},
   "source": [
    "# Lambda functions"
   ]
  },
  {
   "cell_type": "code",
   "execution_count": 8,
   "id": "5ff8aff5",
   "metadata": {},
   "outputs": [
    {
     "name": "stdout",
     "output_type": "stream",
     "text": [
      "50\n"
     ]
    }
   ],
   "source": [
    "sum = lambda a,b:a+b\n",
    "result = sum(40,10)\n",
    "print(result)"
   ]
  },
  {
   "cell_type": "code",
   "execution_count": 12,
   "id": "4cca23b9",
   "metadata": {},
   "outputs": [
    {
     "data": {
      "text/plain": [
       "[2, 4, 6, 8, 10]"
      ]
     },
     "execution_count": 12,
     "metadata": {},
     "output_type": "execute_result"
    }
   ],
   "source": [
    "numbers = [1,2,3,4,5]\n",
    "# square of lists\n",
    "list(map(lambda x:x*2,numbers))"
   ]
  },
  {
   "cell_type": "code",
   "execution_count": 10,
   "id": "9b3bce39",
   "metadata": {},
   "outputs": [
    {
     "name": "stdout",
     "output_type": "stream",
     "text": [
      "[10, 14, 44, 194, 108, 124, 154, 46, 146, 122]\n"
     ]
    }
   ],
   "source": [
    "\n",
    "# Python code to illustrate\n",
    "# map() with lambda()\n",
    "# to get double of a list.\n",
    "li = [5, 7, 22, 97, 54, 62, 77, 23, 73, 61]\n",
    " \n",
    "final_list = list(map(lambda x: x*2, li))\n",
    "print(final_list)"
   ]
  },
  {
   "cell_type": "code",
   "execution_count": 14,
   "id": "f2e9c5f7",
   "metadata": {},
   "outputs": [
    {
     "data": {
      "text/plain": [
       "[22, 54, 62]"
      ]
     },
     "execution_count": 14,
     "metadata": {},
     "output_type": "execute_result"
    }
   ],
   "source": [
    "# lambda function to find even and return true \n",
    "list(filter(lambda x:x%2==0,li))"
   ]
  },
  {
   "cell_type": "markdown",
   "id": "60de837e",
   "metadata": {},
   "source": [
    "# Recursive fibonacci series"
   ]
  },
  {
   "cell_type": "code",
   "execution_count": null,
   "id": "d44b9ef2",
   "metadata": {},
   "outputs": [],
   "source": []
  }
 ],
 "metadata": {
  "kernelspec": {
   "display_name": "Python 3 (ipykernel)",
   "language": "python",
   "name": "python3"
  },
  "language_info": {
   "codemirror_mode": {
    "name": "ipython",
    "version": 3
   },
   "file_extension": ".py",
   "mimetype": "text/x-python",
   "name": "python",
   "nbconvert_exporter": "python",
   "pygments_lexer": "ipython3",
   "version": "3.7.7"
  }
 },
 "nbformat": 4,
 "nbformat_minor": 5
}
