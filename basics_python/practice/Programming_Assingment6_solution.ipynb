{
 "cells": [
  {
   "attachments": {},
   "cell_type": "markdown",
   "id": "56916b7d",
   "metadata": {},
   "source": [
    "### 1.\tWrite a Python Program to Display Fibonacci Sequence Using Recursion?\n"
   ]
  },
  {
   "cell_type": "code",
   "execution_count": 33,
   "id": "04cc8ec3",
   "metadata": {},
   "outputs": [
    {
     "name": "stdout",
     "output_type": "stream",
     "text": [
      "1 1 2 3 5 "
     ]
    }
   ],
   "source": [
    "a = 1\n",
    "b = 1\n",
    "def fibo(n):\n",
    "    if n==1 or n==2:\n",
    "        return 1\n",
    "    else:\n",
    "        return fibo(n-1) + fibo(n-2)\n",
    "\n",
    "def fibo2(n):\n",
    "    if n==0:\n",
    "        return \n",
    "    \n",
    "    fibo2(n-1)\n",
    "    print(fibo(n),end=' ')\n",
    "    return\n",
    "     \n",
    "\n",
    "fibo2(5)"
   ]
  },
  {
   "attachments": {},
   "cell_type": "markdown",
   "id": "615fc69d",
   "metadata": {},
   "source": [
    "### 2.\tWrite a Python Program to Find Factorial of Number Using Recursion?\n",
    "\n"
   ]
  },
  {
   "cell_type": "code",
   "execution_count": 41,
   "id": "9b4714b1",
   "metadata": {},
   "outputs": [
    {
     "data": {
      "text/plain": [
       "720"
      ]
     },
     "execution_count": 41,
     "metadata": {},
     "output_type": "execute_result"
    }
   ],
   "source": [
    "def factorial(n):\n",
    "    if n != 1:\n",
    "        return n*factorial(n-1)\n",
    "    else:\n",
    "        return n\n",
    "factorial(6)"
   ]
  },
  {
   "attachments": {},
   "cell_type": "markdown",
   "id": "30551e28",
   "metadata": {},
   "source": [
    "### 3.\tWrite a Python Program to calculate your Body Mass Index?"
   ]
  },
  {
   "cell_type": "code",
   "execution_count": 44,
   "id": "bf3eb036",
   "metadata": {},
   "outputs": [
    {
     "data": {
      "text/plain": [
       "23.828124999999996"
      ]
     },
     "execution_count": 44,
     "metadata": {},
     "output_type": "execute_result"
    }
   ],
   "source": [
    "def bmi_calculate(weight,height):\n",
    "    bmi = weight/((height/100)**2)\n",
    "    return bmi\n",
    "bmi_calculate(61,160)"
   ]
  },
  {
   "attachments": {},
   "cell_type": "markdown",
   "id": "010b0958",
   "metadata": {},
   "source": [
    "### 4.\tWrite a Python Program to calculate the natural logarithm of any number?\n"
   ]
  },
  {
   "cell_type": "code",
   "execution_count": 47,
   "id": "1f23d23a",
   "metadata": {},
   "outputs": [
    {
     "name": "stdout",
     "output_type": "stream",
     "text": [
      "Enter the number: 6\n",
      "The log value for 6 is: 1.791759469228055\n"
     ]
    }
   ],
   "source": [
    "import math\n",
    "\n",
    "number = int(input(\"Enter the number: \"))\n",
    "\n",
    "ans = math.log(number)\n",
    "\n",
    "print(f\"The log value for {number} is: {ans}\")"
   ]
  },
  {
   "attachments": {},
   "cell_type": "markdown",
   "id": "42780627",
   "metadata": {},
   "source": [
    "### 5.\tWrite a Python Program for cube sum of first n natural numbers?"
   ]
  },
  {
   "cell_type": "code",
   "execution_count": 7,
   "id": "f531eef1",
   "metadata": {},
   "outputs": [
    {
     "data": {
      "text/plain": [
       "225"
      ]
     },
     "execution_count": 7,
     "metadata": {},
     "output_type": "execute_result"
    }
   ],
   "source": [
    "def cube_sum(n):\n",
    "    sum = 0\n",
    "    for i in range(n+1):\n",
    "        sum += i**3\n",
    "    return sum\n",
    "cube_sum(5)"
   ]
  },
  {
   "cell_type": "code",
   "execution_count": 13,
   "id": "62fa3bf6",
   "metadata": {},
   "outputs": [
    {
     "data": {
      "text/plain": [
       "225"
      ]
     },
     "execution_count": 13,
     "metadata": {},
     "output_type": "execute_result"
    }
   ],
   "source": [
    "def cube_sum_2(n):\n",
    "    if n!= 1:\n",
    "        return cube_sum_2(n-1) + n**3\n",
    "    else:\n",
    "        return n\n",
    "cube_sum_2(5)"
   ]
  },
  {
   "cell_type": "code",
   "execution_count": null,
   "id": "2a1cbab1",
   "metadata": {},
   "outputs": [],
   "source": []
  }
 ],
 "metadata": {
  "kernelspec": {
   "display_name": "Python 3 (ipykernel)",
   "language": "python",
   "name": "python3"
  },
  "language_info": {
   "codemirror_mode": {
    "name": "ipython",
    "version": 3
   },
   "file_extension": ".py",
   "mimetype": "text/x-python",
   "name": "python",
   "nbconvert_exporter": "python",
   "pygments_lexer": "ipython3",
   "version": "3.7.7"
  }
 },
 "nbformat": 4,
 "nbformat_minor": 5
}
