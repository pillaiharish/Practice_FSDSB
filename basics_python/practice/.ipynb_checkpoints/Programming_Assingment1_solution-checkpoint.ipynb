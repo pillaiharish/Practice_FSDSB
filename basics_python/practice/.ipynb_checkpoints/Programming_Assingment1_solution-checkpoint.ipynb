{
 "cells": [
  {
   "attachments": {},
   "cell_type": "markdown",
   "id": "12c4f08d",
   "metadata": {},
   "source": [
    "### 1.\tWrite a Python program to print \"Hello Python\"?"
   ]
  },
  {
   "cell_type": "code",
   "execution_count": 1,
   "id": "e0c0b967",
   "metadata": {},
   "outputs": [
    {
     "name": "stdout",
     "output_type": "stream",
     "text": [
      "Hello Python\n"
     ]
    }
   ],
   "source": [
    "def print_hello():\n",
    "    print(\"Hello Python\")\n",
    "\n",
    "print_hello()   "
   ]
  },
  {
   "cell_type": "markdown",
   "id": "098b08c6",
   "metadata": {},
   "source": [
    "### 2. Write a Python program to do arithmetical operations addition and division.?"
   ]
  },
  {
   "cell_type": "code",
   "execution_count": 2,
   "id": "012a22c0",
   "metadata": {},
   "outputs": [
    {
     "name": "stdout",
     "output_type": "stream",
     "text": [
      "Enter first number 4\n",
      "Enter second number 5\n",
      "Addition of two numbers is 9\n",
      "Division of two numbers is 0.8\n"
     ]
    }
   ],
   "source": [
    "def add_div():\n",
    "    a = int(input(\"Enter first number \"))\n",
    "    b = int(input(\"Enter second number \"))\n",
    "    print(\"Addition of two numbers is {}\".format(a+b))\n",
    "    \n",
    "    if a!=0 and b==0:\n",
    "        print(\"Division is infinity\")\n",
    "    elif a==0 and b!=0:\n",
    "        print(\"Division is {}\".format(0))\n",
    "    else:\n",
    "        print(\"Division of two numbers is {}\".format(a/b))\n",
    "add_div()"
   ]
  },
  {
   "cell_type": "markdown",
   "id": "cc786b14",
   "metadata": {},
   "source": [
    "### 3.\tWrite a Python program to find the area of a triangle?"
   ]
  },
  {
   "cell_type": "code",
   "execution_count": 78,
   "id": "70dfd23f",
   "metadata": {},
   "outputs": [
    {
     "name": "stdout",
     "output_type": "stream",
     "text": [
      "Enter side1 5\n",
      "Enter side2 6\n",
      "Enter side3 7\n",
      "Area of triangle is 14.70\n"
     ]
    }
   ],
   "source": [
    "def area_of_triangle():\n",
    "    a = int(input(\"Enter side1 \"))\n",
    "    b = int(input(\"Enter side2 \"))\n",
    "    c = int(input(\"Enter side3 \"))\n",
    "    # calculate semi-perimeter\n",
    "    s = 0.5*(a+b+c)\n",
    "    area = (s*(s-a)*(s-b)*(s-c)) ** 0.5 \n",
    "    print(\"Area of triangle is %0.2f\"%area)\n",
    "     \n",
    "area_of_triangle()"
   ]
  },
  {
   "cell_type": "markdown",
   "id": "a9e150d6",
   "metadata": {},
   "source": [
    "### 4. Write a Python program to swap two variables?"
   ]
  },
  {
   "cell_type": "code",
   "execution_count": 4,
   "id": "68374fc6",
   "metadata": {},
   "outputs": [
    {
     "name": "stdout",
     "output_type": "stream",
     "text": [
      "Enter var1 4\n",
      "Enter var2 2\n",
      "First number is 2\n",
      "Second number is 4\n"
     ]
    }
   ],
   "source": [
    "def swap_two_variables_extra_space():\n",
    "    var1 = int(input(\"Enter var1 \"))\n",
    "    var2 = int(input(\"Enter var2 \"))\n",
    "    temp = var1\n",
    "    var1 = var2\n",
    "    var2 = temp\n",
    "    print(\"First number is {}\".format(var1))\n",
    "    print(\"Second number is {}\".format(var2))\n",
    "swap_two_variables_extra_space()"
   ]
  },
  {
   "cell_type": "code",
   "execution_count": 5,
   "id": "b4ebc046",
   "metadata": {},
   "outputs": [
    {
     "name": "stdout",
     "output_type": "stream",
     "text": [
      "Enter var1 6\n",
      "Enter var2 7\n",
      "First number is 7\n",
      "Second number is 6\n"
     ]
    }
   ],
   "source": [
    "# def swap_two_variables():\n",
    "#     var1 = int(input(\"Enter var1 \"))\n",
    "#     var2 = int(input(\"Enter var2 \"))\n",
    "#     #add two variables and store in first\n",
    "#     var1+=var2\n",
    "#     #subtract var2 from var1 and store it in var2\n",
    "#     var2 = var1 - var2\n",
    "#     #again subtract var2 from var1 and store in var1\n",
    "#     var1 = var1 - var2\n",
    "#     print(\"First number is {}\".format(var1))\n",
    "#     print(\"Second number is {}\".format(var2))\n",
    "# swap_two_variables()"
   ]
  },
  {
   "attachments": {},
   "cell_type": "markdown",
   "id": "bb041ba5",
   "metadata": {},
   "source": [
    "### 5.\tWrite a Python program to generate a random number?"
   ]
  },
  {
   "cell_type": "code",
   "execution_count": 50,
   "id": "6cdab73f",
   "metadata": {},
   "outputs": [
    {
     "name": "stdout",
     "output_type": "stream",
     "text": [
      "840\n"
     ]
    }
   ],
   "source": [
    "import random\n",
    "def random_num(num):\n",
    "    print(random.randrange(1,num))\n",
    "          \n",
    "random_num(1000)"
   ]
  },
  {
   "cell_type": "code",
   "execution_count": null,
   "id": "94938195",
   "metadata": {},
   "outputs": [],
   "source": []
  }
 ],
 "metadata": {
  "kernelspec": {
   "display_name": "Python 3 (ipykernel)",
   "language": "python",
   "name": "python3"
  },
  "language_info": {
   "codemirror_mode": {
    "name": "ipython",
    "version": 3
   },
   "file_extension": ".py",
   "mimetype": "text/x-python",
   "name": "python",
   "nbconvert_exporter": "python",
   "pygments_lexer": "ipython3",
   "version": "3.7.7"
  }
 },
 "nbformat": 4,
 "nbformat_minor": 5
}
