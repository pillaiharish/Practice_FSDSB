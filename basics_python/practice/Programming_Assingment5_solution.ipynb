{
 "cells": [
  {
   "cell_type": "markdown",
   "id": "56916b7d",
   "metadata": {},
   "source": [
    "### 1.\tWrite a Python Program to Find LCM?\n"
   ]
  },
  {
   "cell_type": "code",
   "execution_count": 18,
   "id": "dbc96d02",
   "metadata": {},
   "outputs": [
    {
     "name": "stdout",
     "output_type": "stream",
     "text": [
      "20.0\n",
      "60.0\n",
      "10.0\n"
     ]
    },
    {
     "data": {
      "text/plain": [
       "10.0"
      ]
     },
     "execution_count": 18,
     "metadata": {},
     "output_type": "execute_result"
    }
   ],
   "source": [
    "class FindLCM:\n",
    "    g = 1\n",
    "    def __init__(self,a,b):\n",
    "        self.a = a\n",
    "        self.b = b\n",
    "    \n",
    "    def gcd(self,x,y):\n",
    "        if x == y:\n",
    "            self.g = x\n",
    "            return self.g #x\n",
    "        elif x>y:\n",
    "#             print(f\"inside gcd > {x} {y}\")\n",
    "            self.gcd(x-y,y)\n",
    "        else:\n",
    "#             print(f\"inside gcd else {x} {y}\")\n",
    "            self.gcd(x,y-x)\n",
    "    def lcm(self):\n",
    "        self.gcd(self.a,self.b)\n",
    "        gcd_var = self.g\n",
    "#         print(gcd_var)\n",
    "        \n",
    "        # Using Eucledian formul a * b = GCD(a,b) * LCM(a,b)\n",
    "        lcm_var = (self.a*self.b)/gcd_var\n",
    "        print(lcm_var)\n",
    "        return lcm_var\n",
    "        \n",
    "object1 = FindLCM(4,5)\n",
    "object1.lcm()\n",
    "\n",
    "object2 = FindLCM(15,20)\n",
    "object2.lcm()\n",
    "\n",
    "object2 = FindLCM(10,5)\n",
    "object2.lcm()"
   ]
  },
  {
   "cell_type": "markdown",
   "id": "615fc69d",
   "metadata": {},
   "source": [
    "### 2.\tWrite a Python Program to Find HCF?\n"
   ]
  },
  {
   "cell_type": "code",
   "execution_count": 19,
   "id": "9b4714b1",
   "metadata": {},
   "outputs": [
    {
     "name": "stdout",
     "output_type": "stream",
     "text": [
      "12\n",
      "1\n"
     ]
    }
   ],
   "source": [
    "def find_hcf(x,y):\n",
    "    if x == y:\n",
    "        print(x)\n",
    "        return x\n",
    "    elif x>y:\n",
    "        find_hcf(x-y,y)\n",
    "    else:\n",
    "        find_hcf(x,y-x)\n",
    "find_hcf(36,60)\n",
    "find_hcf(4,5)"
   ]
  },
  {
   "cell_type": "markdown",
   "id": "ab371fea",
   "metadata": {},
   "source": [
    "### 3.\tWrite a Python Program to Convert Decimal to Binary, Octal and Hexadecimal?"
   ]
  },
  {
   "cell_type": "code",
   "execution_count": 74,
   "id": "85db0de0",
   "metadata": {},
   "outputs": [
    {
     "name": "stdout",
     "output_type": "stream",
     "text": [
      "1100100\n"
     ]
    },
    {
     "data": {
      "text/plain": [
       "0"
      ]
     },
     "execution_count": 74,
     "metadata": {},
     "output_type": "execute_result"
    }
   ],
   "source": [
    "def deci_to_binary(d):\n",
    "    return bin(d).replace(\"0b\",\"\")\n",
    "print(deci_to_binary(100))\n",
    "\n",
    "\n",
    "def deci_to_binary2(d):\n",
    "    \n",
    "#     if d ==1:\n",
    "#         print(d)\n",
    "#         return 1\n",
    "    if d == 0:\n",
    "        return 0\n",
    "    if d>=1:\n",
    "        \n",
    "        deci_to_binary2(d//2)\n",
    "        print(d%2,end='')\n",
    "        \n",
    "deci_to_binary2(0)"
   ]
  },
  {
   "cell_type": "code",
   "execution_count": 70,
   "id": "7d88e08c",
   "metadata": {},
   "outputs": [
    {
     "name": "stdout",
     "output_type": "stream",
     "text": [
      "144\n",
      "13"
     ]
    }
   ],
   "source": [
    "def deci_to_octal(d):\n",
    "    return oct(d).replace(\"0o\",\"\")\n",
    "print(deci_to_octal(100))\n",
    "\n",
    "def deci_to_octal_2(d):\n",
    "    if d>=1:\n",
    "        deci_to_octal_2(d//8)\n",
    "        print(d%8,end='')\n",
    "deci_to_octal_2(11)"
   ]
  },
  {
   "cell_type": "code",
   "execution_count": 71,
   "id": "ff5495a4",
   "metadata": {},
   "outputs": [
    {
     "name": "stdout",
     "output_type": "stream",
     "text": [
      "64\n",
      "65"
     ]
    }
   ],
   "source": [
    "def deci_to_hex(d):\n",
    "    return hex(d).replace(\"0x\",\"\")\n",
    "print(deci_to_hex(100))\n",
    "\n",
    "def deci_to_hex_2(d):\n",
    "    if d>=1:\n",
    "        deci_to_hex_2(d//16)\n",
    "        print(d%16,end='')\n",
    "deci_to_hex_2(101)"
   ]
  },
  {
   "cell_type": "markdown",
   "id": "010b0958",
   "metadata": {},
   "source": [
    "### 4.\tWrite a Python Program To Find ASCII value of a character?\n"
   ]
  },
  {
   "cell_type": "code",
   "execution_count": 84,
   "id": "8e6d4922",
   "metadata": {},
   "outputs": [
    {
     "name": "stdout",
     "output_type": "stream",
     "text": [
      "97\n",
      "66\n"
     ]
    }
   ],
   "source": [
    "def find_ascii(a):\n",
    "    return (ord(a))\n",
    "print(find_ascii(\"a\"))\n",
    "print(find_ascii(\"B\"))"
   ]
  },
  {
   "cell_type": "markdown",
   "id": "42780627",
   "metadata": {},
   "source": [
    "### 5.\tWrite a Python Program to Make a Simple Calculator with 4 basic mathematical operations?\n"
   ]
  },
  {
   "cell_type": "code",
   "execution_count": 108,
   "id": "f531eef1",
   "metadata": {},
   "outputs": [
    {
     "name": "stdout",
     "output_type": "stream",
     "text": [
      "Enter symbol  +\n",
      "Enter first number 4\n",
      "Enter second number 9\n",
      "addition of two nums is 13\n"
     ]
    }
   ],
   "source": [
    "class Calculator:\n",
    "    def __init__(self,first,second):\n",
    "        self.a = first\n",
    "        self.b = second\n",
    "    def add(self):\n",
    "        return print(\"addition of two nums is {}\".format(self.a+self.b))\n",
    "    def subtract(self):\n",
    "        return print(\"subtract of two nums is {}\".format(self.a-self.b))\n",
    "    def division(self):\n",
    "        if self.b is not 0:\n",
    "            ans = self.a/self.b\n",
    "            return print(\"division of two nums is {}\".format(ans))\n",
    "        else:\n",
    "            return print(\"division by zero exception\")\n",
    "    def multiply(self):\n",
    "        return print(\"multiplication of two nums is {}\".format(self.a*self.b))\n",
    "    \n",
    "    def invalid(self):\n",
    "        return print(\"Invalid entry. Use one of 4 symbols + / - *\")\n",
    "\n",
    "input_symbol = input(\"Enter symbol  \").strip(\" \")\n",
    "input1 = int(input(\"Enter first number \"))\n",
    "input2 = int(input(\"Enter second number \"))\n",
    "add_obj = Calculator(input1,input2)\n",
    "if input_symbol == \"+\":\n",
    "    add_obj.add()\n",
    "elif input_symbol == \"-\":\n",
    "    add_obj.subtract()\n",
    "elif input_symbol == \"*\":\n",
    "    add_obj.multiply()\n",
    "elif input_symbol == \"/\":\n",
    "    add_obj.division()\n",
    "else:\n",
    "    add_obj.invalid()\n",
    "    \n"
   ]
  },
  {
   "cell_type": "code",
   "execution_count": null,
   "id": "62fa3bf6",
   "metadata": {},
   "outputs": [],
   "source": []
  }
 ],
 "metadata": {
  "kernelspec": {
   "display_name": "Python 3 (ipykernel)",
   "language": "python",
   "name": "python3"
  },
  "language_info": {
   "codemirror_mode": {
    "name": "ipython",
    "version": 3
   },
   "file_extension": ".py",
   "mimetype": "text/x-python",
   "name": "python",
   "nbconvert_exporter": "python",
   "pygments_lexer": "ipython3",
   "version": "3.7.7"
  }
 },
 "nbformat": 4,
 "nbformat_minor": 5
}
