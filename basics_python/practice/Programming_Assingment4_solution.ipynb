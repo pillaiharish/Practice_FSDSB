{
 "cells": [
  {
   "cell_type": "markdown",
   "id": "56916b7d",
   "metadata": {},
   "source": [
    "### 1.\tWrite a Python Program to Find the Factorial of a Number?\n"
   ]
  },
  {
   "cell_type": "code",
   "execution_count": 11,
   "id": "10d123f3",
   "metadata": {},
   "outputs": [
    {
     "name": "stdout",
     "output_type": "stream",
     "text": [
      "5040\n",
      "invalid\n",
      "1\n",
      "2\n"
     ]
    }
   ],
   "source": [
    "def factorial(number):\n",
    "    if number <=0:\n",
    "        return \"invalid\"\n",
    "    if number == 1:\n",
    "        return 1\n",
    "    return factorial(number-1)*(number)\n",
    "print(factorial(7))\n",
    "print(factorial(0))\n",
    "print(factorial(1))\n",
    "print(factorial(2))"
   ]
  },
  {
   "cell_type": "markdown",
   "id": "615fc69d",
   "metadata": {},
   "source": [
    "### 2.\tWrite a Python Program to Display the multiplication Table?\n"
   ]
  },
  {
   "cell_type": "code",
   "execution_count": 19,
   "id": "9b4714b1",
   "metadata": {},
   "outputs": [
    {
     "name": "stdout",
     "output_type": "stream",
     "text": [
      "The table for 14 is\n",
      "14  x  1  =  14\n",
      "14  x  2  =  28\n",
      "14  x  3  =  42\n",
      "14  x  4  =  56\n",
      "14  x  5  =  70\n",
      "14  x  6  =  84\n",
      "14  x  7  =  98\n",
      "14  x  8  =  112\n",
      "14  x  9  =  126\n",
      "14  x  10  =  140\n"
     ]
    }
   ],
   "source": [
    "def display_multiplicaiton_table(number):\n",
    "    print(f\"The table for {number} is\")\n",
    "    for i in range(1,11):\n",
    "        print(number,\" x \",i,\" = \",number*i)\n",
    "        \n",
    "display_multiplicaiton_table(14)"
   ]
  },
  {
   "cell_type": "markdown",
   "id": "010b0958",
   "metadata": {},
   "source": [
    "### 3.\tWrite a Python Program to Print the Fibonacci sequence?\n"
   ]
  },
  {
   "cell_type": "code",
   "execution_count": 2,
   "id": "560bf5cc",
   "metadata": {},
   "outputs": [
    {
     "name": "stdout",
     "output_type": "stream",
     "text": [
      "1\n",
      "1\n",
      "2\n",
      "3\n",
      "5\n"
     ]
    }
   ],
   "source": [
    "# 1 1 2 3 5\n",
    "def fibonacci_sequence(number):\n",
    "    \n",
    "    a = 1\n",
    "    b = 1\n",
    "    print(a)\n",
    "    print(b)\n",
    "    for i in range(2,number):\n",
    "        temp = b\n",
    "        b= b+a \n",
    "        a = temp\n",
    "        print(b)\n",
    "fibonacci_sequence(5)"
   ]
  },
  {
   "cell_type": "code",
   "execution_count": 14,
   "id": "46ef59b2",
   "metadata": {},
   "outputs": [
    {
     "data": {
      "text/plain": [
       "3"
      ]
     },
     "execution_count": 14,
     "metadata": {},
     "output_type": "execute_result"
    }
   ],
   "source": [
    "def fibonacci_nth_num(number):\n",
    "    if number==0:\n",
    "        return 0\n",
    "    elif number == 1:\n",
    "        return 1\n",
    "    else:\n",
    "#         print(number)\n",
    "        return (fibonacci_nth_num(number-1) + fibonacci_nth_num(number-2))\n",
    "fibonacci_nth_num(4)"
   ]
  },
  {
   "cell_type": "code",
   "execution_count": 20,
   "id": "47599f3e",
   "metadata": {},
   "outputs": [
    {
     "name": "stdout",
     "output_type": "stream",
     "text": [
      "0\n",
      "1\n",
      "1\n",
      "2\n",
      "3\n"
     ]
    }
   ],
   "source": [
    "def fibonacci_recursion(number):\n",
    "    if number <= 1:\n",
    "        return number\n",
    "    else:\n",
    "        return (fibonacci_recursion(number-1) + fibonacci_recursion(number-2))\n",
    "\n",
    "number = 5    \n",
    "for i in range(number):\n",
    "    print(fibonacci_recursion(i))\n",
    "    \n"
   ]
  },
  {
   "cell_type": "markdown",
   "id": "42780627",
   "metadata": {},
   "source": [
    "### 4.\tWrite a Python Program to Check Armstrong Number?\n"
   ]
  },
  {
   "cell_type": "code",
   "execution_count": 32,
   "id": "f531eef1",
   "metadata": {},
   "outputs": [
    {
     "name": "stdout",
     "output_type": "stream",
     "text": [
      "Enter a number 140\n",
      "140 is not an Armstrong Number\n"
     ]
    }
   ],
   "source": [
    "# abcd... = an + bn + cn + dn + ...\n",
    "\n",
    "def armstrong_num_type_cast(num):\n",
    "    \n",
    "    n = len(str(num))\n",
    "\n",
    "    sumation = 0\n",
    "    for i in str(num):\n",
    "        sumation = sumation + int(i) ** n\n",
    "        \n",
    "    if sumation == num:\n",
    "        print(f\"{num} is an Armstrong Number\")\n",
    "    else:\n",
    "        \n",
    "        print(f\"{num} is not an Armstrong Number\")  \n",
    "       \n",
    "num = int(input(\"Enter a number \")) #1634    \n",
    "armstrong_num_type_cast(num)  "
   ]
  },
  {
   "cell_type": "markdown",
   "id": "b5a14190",
   "metadata": {},
   "source": [
    "### 5.\tWrite a Python Program to Find Armstrong Number in an Interval?"
   ]
  },
  {
   "cell_type": "code",
   "execution_count": 35,
   "id": "730983ad",
   "metadata": {},
   "outputs": [
    {
     "name": "stdout",
     "output_type": "stream",
     "text": [
      "[0, 1, 2, 3, 4, 5, 6, 7, 8, 9, 153]\n"
     ]
    }
   ],
   "source": [
    "def check_armstrong(num):\n",
    "    \n",
    "    n = len(str(num))\n",
    "\n",
    "    sumation = 0\n",
    "    for i in str(num):\n",
    "        sumation = sumation + int(i) ** n\n",
    "        \n",
    "    if sumation == num:\n",
    "        return True\n",
    "    else:\n",
    "        return False \n",
    "        \n",
    "def interval_armstrong(start,end):\n",
    "    interval_list = []\n",
    "    for i in range(start,end):\n",
    "        if check_armstrong(i):\n",
    "            interval_list.append(i)\n",
    "    print(interval_list)\n",
    "interval_armstrong(0,200)        "
   ]
  },
  {
   "cell_type": "markdown",
   "id": "5a3484b5",
   "metadata": {},
   "source": [
    "### 6.\tWrite a Python Program to Find the Sum of Natural Numbers?"
   ]
  },
  {
   "cell_type": "code",
   "execution_count": 43,
   "id": "9cbf5532",
   "metadata": {},
   "outputs": [
    {
     "name": "stdout",
     "output_type": "stream",
     "text": [
      "66 is the sum of first 11 natural numbers\n"
     ]
    }
   ],
   "source": [
    "def sum_natural_nums_loop(num):\n",
    "    sum = 0\n",
    "    for i in range(1,num+1):\n",
    "        sum += i\n",
    "    print(f\"{sum} is the sum of first {num} natural numbers\")\n",
    "sum_natural_nums_loop(11)"
   ]
  },
  {
   "cell_type": "code",
   "execution_count": 44,
   "id": "b8b89615",
   "metadata": {},
   "outputs": [
    {
     "name": "stdout",
     "output_type": "stream",
     "text": [
      "55 is the sum of first 10 natural numbers\n"
     ]
    }
   ],
   "source": [
    "def sum_natural_nums_formula(num):\n",
    "    add = (num*(num+1))//2\n",
    "    print(f\"{add} is the sum of first {num} natural numbers\")\n",
    "sum_natural_nums_formula(10)"
   ]
  },
  {
   "cell_type": "code",
   "execution_count": null,
   "id": "62fa3bf6",
   "metadata": {},
   "outputs": [],
   "source": []
  }
 ],
 "metadata": {
  "kernelspec": {
   "display_name": "Python 3 (ipykernel)",
   "language": "python",
   "name": "python3"
  },
  "language_info": {
   "codemirror_mode": {
    "name": "ipython",
    "version": 3
   },
   "file_extension": ".py",
   "mimetype": "text/x-python",
   "name": "python",
   "nbconvert_exporter": "python",
   "pygments_lexer": "ipython3",
   "version": "3.7.7"
  }
 },
 "nbformat": 4,
 "nbformat_minor": 5
}
