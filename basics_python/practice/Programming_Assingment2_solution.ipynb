{
 "cells": [
  {
   "cell_type": "markdown",
   "id": "209ab32e",
   "metadata": {},
   "source": [
    "### 1.\tWrite a Python program to convert kilometers to miles?\n",
    "\n"
   ]
  },
  {
   "cell_type": "code",
   "execution_count": 6,
   "id": "c387a08e",
   "metadata": {},
   "outputs": [
    {
     "name": "stdout",
     "output_type": "stream",
     "text": [
      "Enter distance in kilometers 2\n",
      "The conversion of kilometers to miles is 1.242\n"
     ]
    }
   ],
   "source": [
    "def kilometer_to_miles():\n",
    "    kilometers = int(input(\"Enter distance in kilometers \"))\n",
    "    miles = kilometers*0.621\n",
    "    print(\"The conversion of kilometers to miles is {}\".format(miles))\n",
    "kilometer_to_miles()"
   ]
  },
  {
   "cell_type": "markdown",
   "id": "6771b310",
   "metadata": {},
   "source": [
    "### 2.\tWrite a Python program to convert Celsius to Fahrenheit?\n"
   ]
  },
  {
   "cell_type": "code",
   "execution_count": 12,
   "id": "6ce20555",
   "metadata": {},
   "outputs": [
    {
     "name": "stdout",
     "output_type": "stream",
     "text": [
      "Enter Celsius value of temperature 37.55\n",
      "The celsius value is 37.5, its fahrenheit value is 99.6\n"
     ]
    }
   ],
   "source": [
    "def celcius_to_fahrenheit():\n",
    "    celsius = float(input(\"Enter Celsius value of temperature \"))\n",
    "    fahrenheit = celsius * 1.8 + 32\n",
    "    print(\"The celsius value is {:.1f}, its fahrenheit value is {:.1f}\".format(celsius,fahrenheit))\n",
    "celcius_to_fahrenheit()"
   ]
  },
  {
   "cell_type": "markdown",
   "id": "f1e0cc5b",
   "metadata": {},
   "source": [
    "### 3.\tWrite a Python program to display calendar?\n"
   ]
  },
  {
   "cell_type": "code",
   "execution_count": 13,
   "id": "3831b2d8",
   "metadata": {},
   "outputs": [
    {
     "name": "stdout",
     "output_type": "stream",
     "text": [
      "Enter the year 2020\n",
      "Enter month of the 2020 year 1\n",
      "\n",
      "     January 2020\n",
      "Mo Tu We Th Fr Sa Su\n",
      "       1  2  3  4  5\n",
      " 6  7  8  9 10 11 12\n",
      "13 14 15 16 17 18 19\n",
      "20 21 22 23 24 25 26\n",
      "27 28 29 30 31\n",
      "\n"
     ]
    }
   ],
   "source": [
    "import calendar\n",
    "def print_calendar():\n",
    "    try:\n",
    "        yy = int(input(\"Enter the year \"))\n",
    "        mm = int(input(f\"Enter month of the {yy} year \"))\n",
    "\n",
    "        print(\"\\n\",calendar.month(yy,mm))\n",
    "    except:\n",
    "        print(\"Invalid input\")\n",
    "print_calendar() "
   ]
  },
  {
   "cell_type": "markdown",
   "id": "aaf67c08",
   "metadata": {},
   "source": [
    "### 4.\tWrite a Python program to solve quadratic equation?\n"
   ]
  },
  {
   "cell_type": "code",
   "execution_count": 21,
   "id": "96d68fc0",
   "metadata": {},
   "outputs": [
    {
     "name": "stdout",
     "output_type": "stream",
     "text": [
      "Enter first coefficient 1\n",
      "Enter second coefficient 5\n",
      "Enter constant 6\n",
      "The two solutions are (-2+0j) and (-3+0j)\n"
     ]
    }
   ],
   "source": [
    "def quadratic_equation():\n",
    "    import cmath #complex math module which adds imaginary part if present\n",
    "    a = int(input(\"Enter first coefficient \"))\n",
    "    if a == 0:\n",
    "        return \"quadratic equation invalid\"\n",
    "    b = int(input(\"Enter second coefficient \"))    \n",
    "    c = int(input(\"Enter constant \"))  \n",
    "    \n",
    "    # discriminant\n",
    "    d = (b**2) - 4*a*c\n",
    "    \n",
    "    solution1 = (-b + (cmath.sqrt(d)))/2*a\n",
    "    solution2 = (-b - (cmath.sqrt(d)))/2*a    \n",
    "    \n",
    "    print(f\"The two solutions are {solution1} and {solution2}\")\n",
    "    \n",
    "quadratic_equation()    "
   ]
  },
  {
   "cell_type": "markdown",
   "id": "c649bc94",
   "metadata": {},
   "source": [
    "### 5.\tWrite a Python program to swap two variables without temp variable?"
   ]
  },
  {
   "cell_type": "code",
   "execution_count": 13,
   "id": "8e124d64",
   "metadata": {},
   "outputs": [
    {
     "name": "stdout",
     "output_type": "stream",
     "text": [
      "Enter var1 2\n",
      "Enter var2 4\n",
      "First number is 4\n",
      "Second number is 2\n"
     ]
    }
   ],
   "source": [
    "def swap_two_variables_without_temp():\n",
    "    var1 = int(input(\"Enter var1 \"))\n",
    "    var2 = int(input(\"Enter var2 \"))\n",
    "    #add two variables and store in first\n",
    "    var1+=var2\n",
    "    #subtract var2 from var1 and store it in var2\n",
    "    var2 = var1 - var2\n",
    "    #again subtract var2 from var1 and store in var1\n",
    "    var1 = var1 - var2\n",
    "    print(\"First number is {}\".format(var1))\n",
    "    print(\"Second number is {}\".format(var2))\n",
    "swap_two_variables_without_temp()"
   ]
  },
  {
   "cell_type": "code",
   "execution_count": null,
   "id": "f28f7343",
   "metadata": {},
   "outputs": [],
   "source": []
  }
 ],
 "metadata": {
  "kernelspec": {
   "display_name": "Python 3 (ipykernel)",
   "language": "python",
   "name": "python3"
  },
  "language_info": {
   "codemirror_mode": {
    "name": "ipython",
    "version": 3
   },
   "file_extension": ".py",
   "mimetype": "text/x-python",
   "name": "python",
   "nbconvert_exporter": "python",
   "pygments_lexer": "ipython3",
   "version": "3.7.7"
  }
 },
 "nbformat": 4,
 "nbformat_minor": 5
}
